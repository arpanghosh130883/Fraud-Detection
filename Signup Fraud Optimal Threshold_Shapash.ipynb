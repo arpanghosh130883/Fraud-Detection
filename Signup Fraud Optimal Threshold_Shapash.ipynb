{
 "cells": [
  {
   "cell_type": "code",
   "execution_count": 1,
   "metadata": {},
   "outputs": [],
   "source": [
    "import pandas as pd\n",
    "Signupdata = pd.read_csv('/home/mvisi/Project/DLP/Core/FraudPredict/Notebook/Arpan/Signupdataimputed.csv', error_bad_lines=False)"
   ]
  },
  {
   "cell_type": "code",
   "execution_count": 2,
   "metadata": {},
   "outputs": [],
   "source": [
    "#Seperating Dependent and independent variables \n",
    "#data_final_Org= data_final.copy()\n",
    "Signupdata_ML = Signupdata.copy()\n",
    "X_Signupdata = Signupdata.drop(['Fraud_Acc_Flag'], axis=1, inplace=True)\n",
    "Y_Signupdata = Signupdata_ML.Fraud_Acc_Flag"
   ]
  },
  {
   "cell_type": "code",
   "execution_count": 3,
   "metadata": {},
   "outputs": [],
   "source": [
    "from sklearn.model_selection import train_test_split\n",
    "X_train, X_test, y_train, y_test = train_test_split(Signupdata, Y_Signupdata, test_size=0.30, random_state=42)"
   ]
  },
  {
   "cell_type": "code",
   "execution_count": 4,
   "metadata": {},
   "outputs": [
    {
     "name": "stderr",
     "output_type": "stream",
     "text": [
      "/home/mvisi/.local/lib/python3.6/site-packages/xgboost/sklearn.py:888: UserWarning: The use of label encoder in XGBClassifier is deprecated and will be removed in a future release. To remove this warning, do the following: 1) Pass option use_label_encoder=False when constructing XGBClassifier object; and 2) Encode your labels (y) as integers starting with 0, i.e. 0, 1, 2, ..., [num_class - 1].\n",
      "  warnings.warn(label_encoder_deprecation_msg, UserWarning)\n"
     ]
    },
    {
     "name": "stdout",
     "output_type": "stream",
     "text": [
      "[04:30:34] WARNING: ../src/learner.cc:1061: Starting in XGBoost 1.3.0, the default evaluation metric used with the objective 'binary:logistic' was changed from 'error' to 'logloss'. Explicitly set eval_metric if you'd like to restore the old behavior.\n"
     ]
    },
    {
     "data": {
      "text/plain": [
       "XGBClassifier(base_score=0.5, booster='gbtree', colsample_bylevel=1,\n",
       "              colsample_bynode=1, colsample_bytree=1, gamma=0, gpu_id=-1,\n",
       "              importance_type='gain', interaction_constraints='',\n",
       "              learning_rate=0.300000012, max_delta_step=0, max_depth=6,\n",
       "              min_child_weight=1, missing=nan, monotone_constraints='()',\n",
       "              n_estimators=100, n_jobs=16, num_parallel_tree=1, random_state=0,\n",
       "              reg_alpha=0, reg_lambda=1, scale_pos_weight=1, subsample=1,\n",
       "              tree_method='exact', validate_parameters=1, verbosity=None)"
      ]
     },
     "execution_count": 4,
     "metadata": {},
     "output_type": "execute_result"
    }
   ],
   "source": [
    "#Applying XGBoost Classification\n",
    "import xgboost as xgb\n",
    "XGBClassifier = xgb.XGBClassifier()\n",
    "XGBClassifier.fit(X_train,y_train)"
   ]
  },
  {
   "cell_type": "code",
   "execution_count": 5,
   "metadata": {},
   "outputs": [
    {
     "data": {
      "text/html": [
       "<div>\n",
       "<style scoped>\n",
       "    .dataframe tbody tr th:only-of-type {\n",
       "        vertical-align: middle;\n",
       "    }\n",
       "\n",
       "    .dataframe tbody tr th {\n",
       "        vertical-align: top;\n",
       "    }\n",
       "\n",
       "    .dataframe thead th {\n",
       "        text-align: right;\n",
       "    }\n",
       "</style>\n",
       "<table border=\"1\" class=\"dataframe\">\n",
       "  <thead>\n",
       "    <tr style=\"text-align: right;\">\n",
       "      <th></th>\n",
       "      <th>Pred 0(Approve as Legit)</th>\n",
       "      <th>Pred 1(Deny as Fraud)</th>\n",
       "    </tr>\n",
       "  </thead>\n",
       "  <tbody>\n",
       "    <tr>\n",
       "      <th>True 0(Legit)</th>\n",
       "      <td>TN = 124700 (TNR = 99.99%)</td>\n",
       "      <td>FP = 11 (FPR = 0.01%)</td>\n",
       "    </tr>\n",
       "    <tr>\n",
       "      <th>True 1(Fraud)</th>\n",
       "      <td>FN = 221 (FNR = 93.25%)</td>\n",
       "      <td>TP = 16 (TPR = 6.75%)</td>\n",
       "    </tr>\n",
       "  </tbody>\n",
       "</table>\n",
       "</div>"
      ],
      "text/plain": [
       "                 Pred 0(Approve as Legit)  Pred 1(Deny as Fraud)\n",
       "True 0(Legit)  TN = 124700 (TNR = 99.99%)  FP = 11 (FPR = 0.01%)\n",
       "True 1(Fraud)     FN = 221 (FNR = 93.25%)  TP = 16 (TPR = 6.75%)"
      ]
     },
     "execution_count": 5,
     "metadata": {},
     "output_type": "execute_result"
    }
   ],
   "source": [
    "from sklearn import model_selection, metrics\n",
    "hardpredtst=XGBClassifier.predict(X_test)\n",
    "def conf_matrix(y,pred):\n",
    "    ((tn, fp), (fn, tp)) = metrics.confusion_matrix(y, pred)\n",
    "    ((tnr,fpr),(fnr,tpr))= metrics.confusion_matrix(y, pred, \n",
    "            normalize='true')\n",
    "    return pd.DataFrame([[f'TN = {tn} (TNR = {tnr:1.2%})', \n",
    "                                f'FP = {fp} (FPR = {fpr:1.2%})'], \n",
    "                         [f'FN = {fn} (FNR = {fnr:1.2%})', \n",
    "                                f'TP = {tp} (TPR = {tpr:1.2%})']],\n",
    "            index=['True 0(Legit)', 'True 1(Fraud)'], \n",
    "            columns=['Pred 0(Approve as Legit)', \n",
    "                            'Pred 1(Deny as Fraud)'])\n",
    "conf_matrix(y_test,hardpredtst)"
   ]
  },
  {
   "cell_type": "code",
   "execution_count": 6,
   "metadata": {},
   "outputs": [
    {
     "data": {
      "image/png": "[encoded data removed]",
      "text/plain": [
       "<Figure size 720x432 with 1 Axes>"
      ]
     },
     "metadata": {
      "needs_background": "light"
     },
     "output_type": "display_data"
    }
   ],
   "source": [
    "predtstXGBC=XGBClassifier.predict_proba(X_test)[:,1] #rerun again\n",
    "fpr, tpr, thresholds = metrics.roc_curve(y_test, predtstXGBC)\n",
    "dfplot=pd.DataFrame({'Threshold':thresholds, \n",
    "        'False Positive Rate':fpr, \n",
    "        'False Negative Rate': 1.-tpr})\n",
    "ax=dfplot.plot(x='Threshold', y=['False Positive Rate',\n",
    "        'False Negative Rate'], figsize=(10,6))\n",
    "#ax.plot([0.00035,0.00035],[0,0.1]) #mark example thresh.\n",
    "ax.set_xbound(0,0.0070); ax.set_ybound(0,0.3)"
   ]
  },
  {
   "cell_type": "code",
   "execution_count": 7,
   "metadata": {},
   "outputs": [
    {
     "data": {
      "text/html": [
       "<div>\n",
       "<style scoped>\n",
       "    .dataframe tbody tr th:only-of-type {\n",
       "        vertical-align: middle;\n",
       "    }\n",
       "\n",
       "    .dataframe tbody tr th {\n",
       "        vertical-align: top;\n",
       "    }\n",
       "\n",
       "    .dataframe thead th {\n",
       "        text-align: right;\n",
       "    }\n",
       "</style>\n",
       "<table border=\"1\" class=\"dataframe\">\n",
       "  <thead>\n",
       "    <tr style=\"text-align: right;\">\n",
       "      <th></th>\n",
       "      <th>Pred 0(Approve as Legit)</th>\n",
       "      <th>Pred 1(Deny as Fraud)</th>\n",
       "    </tr>\n",
       "  </thead>\n",
       "  <tbody>\n",
       "    <tr>\n",
       "      <th>True 0(Legit)</th>\n",
       "      <td>TN = 97986 (TNR = 78.57%)</td>\n",
       "      <td>FP = 26725 (FPR = 21.43%)</td>\n",
       "    </tr>\n",
       "    <tr>\n",
       "      <th>True 1(Fraud)</th>\n",
       "      <td>FN = 51 (FNR = 21.52%)</td>\n",
       "      <td>TP = 186 (TPR = 78.48%)</td>\n",
       "    </tr>\n",
       "  </tbody>\n",
       "</table>\n",
       "</div>"
      ],
      "text/plain": [
       "                Pred 0(Approve as Legit)      Pred 1(Deny as Fraud)\n",
       "True 0(Legit)  TN = 97986 (TNR = 78.57%)  FP = 26725 (FPR = 21.43%)\n",
       "True 1(Fraud)     FN = 51 (FNR = 21.52%)    TP = 186 (TPR = 78.48%)"
      ]
     },
     "execution_count": 7,
     "metadata": {},
     "output_type": "execute_result"
    }
   ],
   "source": [
    "import numpy as np\n",
    "hardpredtst_tuned_threshXGBC = np.where(predtstXGBC >= 0.0012035066029056907, 1, 0)\n",
    "conf_matrix(y_test, hardpredtst_tuned_threshXGBC\n",
    "        )"
   ]
  },
  {
   "cell_type": "code",
   "execution_count": 8,
   "metadata": {},
   "outputs": [
    {
     "name": "stderr",
     "output_type": "stream",
     "text": [
      "/home/mvisi/.local/lib/python3.6/site-packages/numba/core/errors.py:149: UserWarning:\n",
      "\n",
      "Insufficiently recent colorama version found. Numba requires colorama >= 0.3.9\n",
      "\n"
     ]
    }
   ],
   "source": [
    "#import shapash\n",
    "from shapash.explainer.smart_explainer import SmartExplainer"
   ]
  },
  {
   "cell_type": "code",
   "execution_count": 9,
   "metadata": {},
   "outputs": [],
   "source": [
    "label_dict = {0: \"Non-Fraud\", 1: \"Fraud\"}"
   ]
  },
  {
   "cell_type": "code",
   "execution_count": 10,
   "metadata": {},
   "outputs": [],
   "source": [
    "xpl = SmartExplainer(label_dict=label_dict) # optional parameter, specifies label for features name"
   ]
  },
  {
   "cell_type": "code",
   "execution_count": 11,
   "metadata": {},
   "outputs": [],
   "source": [
    "hardpredtst_tuned_threshXGBC_Pandas = pd.DataFrame(hardpredtst_tuned_threshXGBC, columns=['pred'], #index=X_test.reset_index(drop='True'))  \n",
    "                                                   index=X_test.index)\n"
   ]
  },
  {
   "cell_type": "code",
   "execution_count": 12,
   "metadata": {},
   "outputs": [
    {
     "name": "stdout",
     "output_type": "stream",
     "text": [
      "Backend: Shap TreeExplainer\n"
     ]
    }
   ],
   "source": [
    "xpl.compile(\n",
    "    x=X_test,\n",
    "    model=XGBClassifier,\n",
    "    y_pred=hardpredtst_tuned_threshXGBC_Pandas\n",
    ")"
   ]
  },
  {
   "cell_type": "code",
   "execution_count": 13,
   "metadata": {},
   "outputs": [
    {
     "name": "stderr",
     "output_type": "stream",
     "text": [
      "INFO:numexpr.utils:Note: NumExpr detected 16 cores but \"NUMEXPR_MAX_THREADS\" not set, so enforcing safe limit of 8.\n",
      "INFO:numexpr.utils:NumExpr defaulting to 8 threads.\n"
     ]
    },
    {
     "data": {
      "text/html": [
       "<div>\n",
       "<style scoped>\n",
       "    .dataframe tbody tr th:only-of-type {\n",
       "        vertical-align: middle;\n",
       "    }\n",
       "\n",
       "    .dataframe tbody tr th {\n",
       "        vertical-align: top;\n",
       "    }\n",
       "\n",
       "    .dataframe thead th {\n",
       "        text-align: right;\n",
       "    }\n",
       "</style>\n",
       "<table border=\"1\" class=\"dataframe\">\n",
       "  <thead>\n",
       "    <tr style=\"text-align: right;\">\n",
       "      <th></th>\n",
       "      <th>pred</th>\n",
       "      <th>feature_1</th>\n",
       "      <th>value_1</th>\n",
       "      <th>contribution_1</th>\n",
       "      <th>feature_2</th>\n",
       "      <th>value_2</th>\n",
       "      <th>contribution_2</th>\n",
       "      <th>feature_3</th>\n",
       "      <th>value_3</th>\n",
       "      <th>contribution_3</th>\n",
       "    </tr>\n",
       "  </thead>\n",
       "  <tbody>\n",
       "    <tr>\n",
       "      <th>226589</th>\n",
       "      <td>Non-Fraud</td>\n",
       "      <td>aza</td>\n",
       "      <td>56183</td>\n",
       "      <td>1.61225</td>\n",
       "      <td>location_Country_Fullcontact</td>\n",
       "      <td>4229</td>\n",
       "      <td>1.45146</td>\n",
       "      <td>source</td>\n",
       "      <td>3</td>\n",
       "      <td>0.34583</td>\n",
       "    </tr>\n",
       "    <tr>\n",
       "      <th>123932</th>\n",
       "      <td>Fraud</td>\n",
       "      <td>country_of_residence</td>\n",
       "      <td>177</td>\n",
       "      <td>-0.722988</td>\n",
       "      <td>aza</td>\n",
       "      <td>37081</td>\n",
       "      <td>0.642447</td>\n",
       "      <td>Ip_Carrier</td>\n",
       "      <td>5805</td>\n",
       "      <td>0.580232</td>\n",
       "    </tr>\n",
       "    <tr>\n",
       "      <th>413136</th>\n",
       "      <td>Fraud</td>\n",
       "      <td>reg_mode</td>\n",
       "      <td>3</td>\n",
       "      <td>0.968852</td>\n",
       "      <td>Ip_Latitude</td>\n",
       "      <td>51.533</td>\n",
       "      <td>0.627405</td>\n",
       "      <td>Ip_Routing_type</td>\n",
       "      <td>5</td>\n",
       "      <td>0.605626</td>\n",
       "    </tr>\n",
       "    <tr>\n",
       "      <th>354965</th>\n",
       "      <td>Non-Fraud</td>\n",
       "      <td>location_Country_Fullcontact</td>\n",
       "      <td>4425</td>\n",
       "      <td>1.06607</td>\n",
       "      <td>brwsr_lang</td>\n",
       "      <td>125</td>\n",
       "      <td>0.96833</td>\n",
       "      <td>Ip_Carrier</td>\n",
       "      <td>5792</td>\n",
       "      <td>-0.610266</td>\n",
       "    </tr>\n",
       "    <tr>\n",
       "      <th>84563</th>\n",
       "      <td>Non-Fraud</td>\n",
       "      <td>ad_campaign</td>\n",
       "      <td>93</td>\n",
       "      <td>0.815583</td>\n",
       "      <td>aza</td>\n",
       "      <td>22897</td>\n",
       "      <td>0.332252</td>\n",
       "      <td>turnover</td>\n",
       "      <td>0</td>\n",
       "      <td>0.304509</td>\n",
       "    </tr>\n",
       "  </tbody>\n",
       "</table>\n",
       "</div>"
      ],
      "text/plain": [
       "             pred                     feature_1 value_1 contribution_1  \\\n",
       "226589  Non-Fraud                           aza   56183        1.61225   \n",
       "123932      Fraud          country_of_residence     177      -0.722988   \n",
       "413136      Fraud                      reg_mode       3       0.968852   \n",
       "354965  Non-Fraud  location_Country_Fullcontact    4425        1.06607   \n",
       "84563   Non-Fraud                   ad_campaign      93       0.815583   \n",
       "\n",
       "                           feature_2 value_2 contribution_2        feature_3  \\\n",
       "226589  location_Country_Fullcontact    4229        1.45146           source   \n",
       "123932                           aza   37081       0.642447       Ip_Carrier   \n",
       "413136                   Ip_Latitude  51.533       0.627405  Ip_Routing_type   \n",
       "354965                    brwsr_lang     125        0.96833       Ip_Carrier   \n",
       "84563                            aza   22897       0.332252         turnover   \n",
       "\n",
       "       value_3 contribution_3  \n",
       "226589       3        0.34583  \n",
       "123932    5805       0.580232  \n",
       "413136       5       0.605626  \n",
       "354965    5792      -0.610266  \n",
       "84563        0       0.304509  "
      ]
     },
     "execution_count": 13,
     "metadata": {},
     "output_type": "execute_result"
    }
   ],
   "source": [
    "xpl.to_pandas(max_contrib=3).head()"
   ]
  },
  {
   "cell_type": "code",
   "execution_count": 14,
   "metadata": {},
   "outputs": [
    {
     "name": "stderr",
     "output_type": "stream",
     "text": [
      "Using short name for 'orient' is deprecated. Only the options: ('dict', list, 'series', 'split', 'records', 'index') will be used in a future version. Use one of the above to silence this warning.\n",
      "INFO:root:Your Shapash application run on http://CD-ML-GPU:8050/\n",
      "INFO:root:Use the method .kill() to down your app.\n"
     ]
    },
    {
     "name": "stdout",
     "output_type": "stream",
     "text": [
      "Dash is running on http://0.0.0.0:8050/\n",
      "\n"
     ]
    },
    {
     "name": "stderr",
     "output_type": "stream",
     "text": [
      "INFO:shapash.webapp.smart_app:Dash is running on http://0.0.0.0:8050/\n",
      "\n"
     ]
    },
    {
     "name": "stdout",
     "output_type": "stream",
     "text": [
      " * Serving Flask app \"shapash.webapp.smart_app\" (lazy loading)\n",
      " * Environment: UAT\n",
      " * Debug mode: off\n"
     ]
    },
    {
     "name": "stderr",
     "output_type": "stream",
     "text": [
      "INFO:werkzeug: * Running on http://0.0.0.0:8050/ (Press CTRL+C to quit)\n",
      "INFO:werkzeug:172.26.0.4 - - [09/Apr/2021 04:37:32] \"\u001b[37mGET / HTTP/1.1\u001b[0m\" 200 -\n",
      "INFO:werkzeug:172.26.0.4 - - [09/Apr/2021 04:37:32] \"\u001b[36mGET /assets/style.css?m=1617794827.6701946 HTTP/1.1\u001b[0m\" 304 -\n",
      "INFO:werkzeug:172.26.0.4 - - [09/Apr/2021 04:37:32] \"\u001b[36mGET /assets/material-icons.css?m=1617794827.6661947 HTTP/1.1\u001b[0m\" 304 -\n",
      "INFO:werkzeug:172.26.0.4 - - [09/Apr/2021 04:37:32] \"\u001b[36mGET /assets/jquery.js?m=1617794827.6661947 HTTP/1.1\u001b[0m\" 304 -\n",
      "INFO:werkzeug:172.26.0.4 - - [09/Apr/2021 04:37:32] \"\u001b[36mGET /assets/main.js?m=1617794827.6661947 HTTP/1.1\u001b[0m\" 304 -\n",
      "INFO:werkzeug:172.26.0.4 - - [09/Apr/2021 04:37:33] \"\u001b[37mGET /_dash-dependencies HTTP/1.1\u001b[0m\" 200 -\n",
      "INFO:werkzeug:172.26.0.4 - - [09/Apr/2021 04:37:33] \"\u001b[37mGET /_dash-layout HTTP/1.1\u001b[0m\" 200 -\n",
      "INFO:werkzeug:172.26.0.4 - - [09/Apr/2021 04:37:34] \"\u001b[36mGET /assets/shapash-fond-fonce.png HTTP/1.1\u001b[0m\" 304 -\n",
      "INFO:werkzeug:172.26.0.4 - - [09/Apr/2021 04:37:34] \"\u001b[36mGET /assets/settings.png HTTP/1.1\u001b[0m\" 304 -\n",
      "INFO:werkzeug:172.26.0.4 - - [09/Apr/2021 04:37:34] \"\u001b[36mGET /assets/reload.png HTTP/1.1\u001b[0m\" 304 -\n",
      "INFO:werkzeug:172.26.0.4 - - [09/Apr/2021 04:37:34] \"\u001b[37mPOST /_dash-update-component HTTP/1.1\u001b[0m\" 200 -\n",
      "INFO:werkzeug:172.26.0.4 - - [09/Apr/2021 04:37:34] \"\u001b[37mPOST /_dash-update-component HTTP/1.1\u001b[0m\" 200 -\n",
      "INFO:werkzeug:172.26.0.4 - - [09/Apr/2021 04:37:34] \"\u001b[37mPOST /_dash-update-component HTTP/1.1\u001b[0m\" 200 -\n",
      "INFO:werkzeug:172.26.0.4 - - [09/Apr/2021 04:37:34] \"\u001b[37mPOST /_dash-update-component HTTP/1.1\u001b[0m\" 200 -\n",
      "INFO:werkzeug:172.26.0.4 - - [09/Apr/2021 04:37:34] \"\u001b[37mPOST /_dash-update-component HTTP/1.1\u001b[0m\" 200 -\n",
      "INFO:werkzeug:172.26.0.4 - - [09/Apr/2021 04:37:34] \"\u001b[37mPOST /_dash-update-component HTTP/1.1\u001b[0m\" 200 -\n",
      "INFO:werkzeug:172.26.0.4 - - [09/Apr/2021 04:37:34] \"\u001b[37mPOST /_dash-update-component HTTP/1.1\u001b[0m\" 200 -\n",
      "INFO:werkzeug:172.26.0.4 - - [09/Apr/2021 04:37:34] \"\u001b[37mPOST /_dash-update-component HTTP/1.1\u001b[0m\" 200 -\n",
      "INFO:werkzeug:172.26.0.4 - - [09/Apr/2021 04:37:34] \"\u001b[37mPOST /_dash-update-component HTTP/1.1\u001b[0m\" 200 -\n",
      "INFO:werkzeug:172.26.0.4 - - [09/Apr/2021 04:37:34] \"\u001b[37mPOST /_dash-update-component HTTP/1.1\u001b[0m\" 200 -\n",
      "INFO:werkzeug:172.26.0.4 - - [09/Apr/2021 04:37:35] \"\u001b[37mPOST /_dash-update-component HTTP/1.1\u001b[0m\" 200 -\n",
      "INFO:werkzeug:172.26.0.4 - - [09/Apr/2021 04:37:35] \"\u001b[37mPOST /_dash-update-component HTTP/1.1\u001b[0m\" 200 -\n",
      "INFO:werkzeug:172.26.0.4 - - [09/Apr/2021 04:37:35] \"\u001b[37mPOST /_dash-update-component HTTP/1.1\u001b[0m\" 200 -\n",
      "INFO:werkzeug:172.26.0.4 - - [09/Apr/2021 04:37:36] \"\u001b[37mPOST /_dash-update-component HTTP/1.1\u001b[0m\" 200 -\n",
      "INFO:werkzeug:172.26.0.4 - - [09/Apr/2021 04:37:37] \"\u001b[37mPOST /_dash-update-component HTTP/1.1\u001b[0m\" 200 -\n",
      "INFO:werkzeug:172.26.0.4 - - [09/Apr/2021 04:37:38] \"\u001b[37mPOST /_dash-update-component HTTP/1.1\u001b[0m\" 200 -\n",
      "INFO:werkzeug:172.26.0.4 - - [09/Apr/2021 04:37:38] \"\u001b[37mPOST /_dash-update-component HTTP/1.1\u001b[0m\" 200 -\n",
      "INFO:werkzeug:172.26.0.4 - - [09/Apr/2021 04:37:39] \"\u001b[37mPOST /_dash-update-component HTTP/1.1\u001b[0m\" 200 -\n",
      "INFO:werkzeug:172.26.0.4 - - [09/Apr/2021 04:37:39] \"\u001b[37mPOST /_dash-update-component HTTP/1.1\u001b[0m\" 200 -\n"
     ]
    }
   ],
   "source": [
    "app = xpl.run_app(title_story='Fraud Prediction')"
   ]
  },
  {
   "cell_type": "code",
   "execution_count": 15,
   "metadata": {},
   "outputs": [],
   "source": [
    "#Switch from SmartExplainer Object to SmartPredictor Object\n",
    "predictor = xpl.to_smartpredictor()"
   ]
  },
  {
   "cell_type": "code",
   "execution_count": 16,
   "metadata": {},
   "outputs": [],
   "source": [
    "#Save your predictor in Pickle File\n",
    "\n",
    "predictor.save('SignupFraudShapash.pkl')"
   ]
  },
  {
   "cell_type": "code",
   "execution_count": 18,
   "metadata": {},
   "outputs": [],
   "source": [
    "#Load your predictor in Pickle File\n",
    "from shapash.utils.load_smartpredictor import load_smartpredictor\n",
    "from shapash.data.data_loader import data_loading\n",
    "\n",
    "predictor_load = load_smartpredictor('SignupFraudShapash.pkl')"
   ]
  },
  {
   "cell_type": "code",
   "execution_count": 22,
   "metadata": {},
   "outputs": [],
   "source": [
    "new_x = {'EIDStatus': 0,\n",
    "             'SanctionStatus': 0,\n",
    "             'Ip_Latitude': 51.48805555,\n",
    "             'Ip_Longitude': -3.69972221,\n",
    "             'Ip_Carrier': 5173,\n",
    "             'Ip_Connection_type': 4,\n",
    "             'Ip_Line_Speed': 3,\n",
    "             'Ip_Routing_type': 3,\n",
    "             'IP_Anonymizer_status':3,\n",
    "             'Fullcontact_Matched':0,\n",
    "             'Social_Profiles_Count': 1,\n",
    "             'gender_Fullcontact':0,\n",
    "             'ageRange_Fullcontact':0,\n",
    "             'location_Country_Fullcontact':0,\n",
    "             'browser_online':5,\n",
    "             'brwsr_lang':45,\n",
    "             'brwsr_type':3,\n",
    "             'brwsr_version': 129,\n",
    "             'device_manufacturer':0,\n",
    "             'device_name':0,\n",
    "            'device_type':1,\n",
    "         'device_os_type':8,\n",
    "         'screen_resolution':185,\n",
    "         'address_type':3,\n",
    "         'aza':44389,\n",
    "         'country_of_residence':77,\n",
    "         'email_domain':15297,\n",
    "         'region_suburb':0,\n",
    "         'residential_status':0,\n",
    "         'title':23,\n",
    "         'ad_campaign':0,\n",
    "         'affiliate_name':154,\n",
    "         'branch':11,\n",
    "         'channel':1,\n",
    "         'keywords':4353,\n",
    "         'op_country':0,\n",
    "         'referral_text':0,\n",
    "         'reg_mode':2,\n",
    "         'search_engine':0,\n",
    "         'source':40,\n",
    "         'sub_source':195,\n",
    "         'turnover':0,\n",
    "         'txn_value':118\n",
    "\n",
    "           }"
   ]
  },
  {
   "cell_type": "code",
   "execution_count": 25,
   "metadata": {},
   "outputs": [],
   "source": [
    "new_x1 = {'EIDStatus': 0,\n",
    "             'SanctionStatus': 0,\n",
    "             'Ip_Latitude': 37.3305299999999,\n",
    "             'Ip_Longitude': -121.83823,\n",
    "             'Ip_Carrier': 1342,\n",
    "             'Ip_Connection_type': 11,\n",
    "             'Ip_Line_Speed': 1,\n",
    "             'Ip_Routing_type': 3,\n",
    "             'IP_Anonymizer_status':0,\n",
    "             'Fullcontact_Matched':0,\n",
    "             'Social_Profiles_Count': 1,\n",
    "             'gender_Fullcontact':0,\n",
    "             'ageRange_Fullcontact':0,\n",
    "             'location_Country_Fullcontact':0,\n",
    "             'browser_online':0,\n",
    "             'brwsr_lang':0,\n",
    "             'brwsr_type':0,\n",
    "             'brwsr_version': 0,\n",
    "             'device_manufacturer':0,\n",
    "             'device_name':0,\n",
    "            'device_type':0,\n",
    "         'device_os_type':5,\n",
    "         'screen_resolution':0,\n",
    "         'address_type':3,\n",
    "         'aza':38110,\n",
    "         'country_of_residence':236,\n",
    "         'email_domain':1335,\n",
    "         'region_suburb':0,\n",
    "         'residential_status':0,\n",
    "         'title':23,\n",
    "         'ad_campaign':61,\n",
    "         'affiliate_name':154,\n",
    "         'branch':11,\n",
    "         'channel':1,\n",
    "         'keywords':4469,\n",
    "         'op_country':0,\n",
    "         'referral_text':228,\n",
    "         'reg_mode':2,\n",
    "         'search_engine':0,\n",
    "         'source':32,\n",
    "         'sub_source':92,\n",
    "         'turnover':0,\n",
    "         'txn_value':24\n",
    "\n",
    "           }"
   ]
  },
  {
   "cell_type": "code",
   "execution_count": 37,
   "metadata": {},
   "outputs": [],
   "source": [
    "YPRED=XGBClassifier.predict_proba(Testdata)[:,1]\n",
    "YPREDT = np.where(YPRED >= 0.0012035066029056907, 1, 0)\n",
    "YPREDT_Pandas = pd.DataFrame(YPREDT, columns=['pred'], #index=X_test.reset_index(drop='True'))  \n",
    "                                                   index=Testdata.index)"
   ]
  },
  {
   "cell_type": "code",
   "execution_count": 38,
   "metadata": {},
   "outputs": [],
   "source": [
    "predictor_load.add_input(x=new_x1, ypred=YPREDT_Pandas)\n"
   ]
  },
  {
   "cell_type": "code",
   "execution_count": 39,
   "metadata": {},
   "outputs": [
    {
     "data": {
      "text/html": [
       "<div>\n",
       "<style scoped>\n",
       "    .dataframe tbody tr th:only-of-type {\n",
       "        vertical-align: middle;\n",
       "    }\n",
       "\n",
       "    .dataframe tbody tr th {\n",
       "        vertical-align: top;\n",
       "    }\n",
       "\n",
       "    .dataframe thead th {\n",
       "        text-align: right;\n",
       "    }\n",
       "</style>\n",
       "<table border=\"1\" class=\"dataframe\">\n",
       "  <thead>\n",
       "    <tr style=\"text-align: right;\">\n",
       "      <th></th>\n",
       "      <th>pred</th>\n",
       "      <th>proba</th>\n",
       "    </tr>\n",
       "  </thead>\n",
       "  <tbody>\n",
       "    <tr>\n",
       "      <th>0</th>\n",
       "      <td>Fraud</td>\n",
       "      <td>0.011268</td>\n",
       "    </tr>\n",
       "  </tbody>\n",
       "</table>\n",
       "</div>"
      ],
      "text/plain": [
       "    pred     proba\n",
       "0  Fraud  0.011268"
      ]
     },
     "execution_count": 39,
     "metadata": {},
     "output_type": "execute_result"
    }
   ],
   "source": [
    "predictor_load.data[\"ypred\"]"
   ]
  },
  {
   "cell_type": "code",
   "execution_count": 41,
   "metadata": {},
   "outputs": [
    {
     "data": {
      "text/html": [
       "<div>\n",
       "<style scoped>\n",
       "    .dataframe tbody tr th:only-of-type {\n",
       "        vertical-align: middle;\n",
       "    }\n",
       "\n",
       "    .dataframe tbody tr th {\n",
       "        vertical-align: top;\n",
       "    }\n",
       "\n",
       "    .dataframe thead th {\n",
       "        text-align: right;\n",
       "    }\n",
       "</style>\n",
       "<table border=\"1\" class=\"dataframe\">\n",
       "  <thead>\n",
       "    <tr style=\"text-align: right;\">\n",
       "      <th></th>\n",
       "      <th>class_0</th>\n",
       "      <th>class_1</th>\n",
       "    </tr>\n",
       "  </thead>\n",
       "  <tbody>\n",
       "    <tr>\n",
       "      <th>0</th>\n",
       "      <td>0.988732</td>\n",
       "      <td>0.011268</td>\n",
       "    </tr>\n",
       "  </tbody>\n",
       "</table>\n",
       "</div>"
      ],
      "text/plain": [
       "    class_0   class_1\n",
       "0  0.988732  0.011268"
      ]
     },
     "execution_count": 41,
     "metadata": {},
     "output_type": "execute_result"
    },
    {
     "name": "stderr",
     "output_type": "stream",
     "text": [
      "INFO:werkzeug:172.26.0.4 - - [09/Apr/2021 11:12:17] \"\u001b[37mPOST /_dash-update-component HTTP/1.1\u001b[0m\" 200 -\n",
      "INFO:werkzeug:172.26.0.4 - - [09/Apr/2021 11:12:24] \"\u001b[37mPOST /_dash-update-component HTTP/1.1\u001b[0m\" 200 -\n",
      "INFO:werkzeug:172.26.0.4 - - [09/Apr/2021 11:12:25] \"\u001b[37mPOST /_dash-update-component HTTP/1.1\u001b[0m\" 200 -\n",
      "INFO:werkzeug:172.26.0.4 - - [09/Apr/2021 11:12:26] \"\u001b[37mPOST /_dash-update-component HTTP/1.1\u001b[0m\" 200 -\n",
      "INFO:werkzeug:172.26.0.4 - - [09/Apr/2021 11:12:54] \"\u001b[37mPOST /_dash-update-component HTTP/1.1\u001b[0m\" 200 -\n",
      "INFO:werkzeug:172.26.0.4 - - [09/Apr/2021 11:13:08] \"\u001b[37mPOST /_dash-update-component HTTP/1.1\u001b[0m\" 200 -\n",
      "INFO:werkzeug:172.26.0.4 - - [09/Apr/2021 11:13:08] \"\u001b[37mPOST /_dash-update-component HTTP/1.1\u001b[0m\" 200 -\n",
      "INFO:werkzeug:172.26.0.4 - - [09/Apr/2021 11:13:09] \"\u001b[37mPOST /_dash-update-component HTTP/1.1\u001b[0m\" 200 -\n",
      "INFO:werkzeug:172.26.0.4 - - [09/Apr/2021 11:13:10] \"\u001b[37mPOST /_dash-update-component HTTP/1.1\u001b[0m\" 200 -\n",
      "INFO:werkzeug:172.26.0.4 - - [09/Apr/2021 11:13:12] \"\u001b[37mPOST /_dash-update-component HTTP/1.1\u001b[0m\" 200 -\n",
      "INFO:werkzeug:172.26.0.4 - - [09/Apr/2021 11:13:12] \"\u001b[37mPOST /_dash-update-component HTTP/1.1\u001b[0m\" 200 -\n",
      "INFO:werkzeug:172.26.0.4 - - [09/Apr/2021 11:13:12] \"\u001b[37mPOST /_dash-update-component HTTP/1.1\u001b[0m\" 200 -\n",
      "INFO:werkzeug:172.26.0.4 - - [09/Apr/2021 11:13:13] \"\u001b[37mPOST /_dash-update-component HTTP/1.1\u001b[0m\" 200 -\n",
      "INFO:werkzeug:172.26.0.4 - - [09/Apr/2021 11:13:18] \"\u001b[37mPOST /_dash-update-component HTTP/1.1\u001b[0m\" 200 -\n"
     ]
    }
   ],
   "source": [
    "prediction_proba = predictor_load.predict_proba()\n",
    "prediction_proba"
   ]
  },
  {
   "cell_type": "code",
   "execution_count": null,
   "metadata": {},
   "outputs": [],
   "source": [
    "predictor_load.app_run(Title '')"
   ]
  },
  {
   "cell_type": "code",
   "execution_count": null,
   "metadata": {},
   "outputs": [],
   "source": []
  },
  {
   "cell_type": "code",
   "execution_count": null,
   "metadata": {},
   "outputs": [],
   "source": []
  },
  {
   "cell_type": "code",
   "execution_count": null,
   "metadata": {},
   "outputs": [],
   "source": []
  },
  {
   "cell_type": "code",
   "execution_count": null,
   "metadata": {},
   "outputs": [],
   "source": []
  },
  {
   "cell_type": "code",
   "execution_count": null,
   "metadata": {},
   "outputs": [],
   "source": []
  },
  {
   "cell_type": "code",
   "execution_count": null,
   "metadata": {},
   "outputs": [],
   "source": []
  },
  {
   "cell_type": "code",
   "execution_count": 33,
   "metadata": {},
   "outputs": [],
   "source": [
    "import pandas as pd\n",
    "Testdata = pd.read_csv('/home/mvisi/Project/DLP/Core/FraudPredict/Notebook/Arpan/New_TestSignupFraud.csv', error_bad_lines=False)\n",
    "\n",
    "predtstXGBCNew=XGBClassifier.predict_proba(Testdata)[:,1]"
   ]
  },
  {
   "cell_type": "code",
   "execution_count": 35,
   "metadata": {},
   "outputs": [
    {
     "data": {
      "text/plain": [
       "array([1])"
      ]
     },
     "execution_count": 35,
     "metadata": {},
     "output_type": "execute_result"
    }
   ],
   "source": [
    "import numpy as np\n",
    "hardpredtst_tuned_threshXGBCTest = np.where(predtstXGBCNew >= 0.0012035066029056907, 1, 0)\n",
    "hardpredtst_tuned_threshXGBCTest"
   ]
  }
 ],
 "metadata": {
  "kernelspec": {
   "display_name": "Python 3",
   "language": "python",
   "name": "python3"
  },
  "language_info": {
   "codemirror_mode": {
    "name": "ipython",
    "version": 3
   },
   "file_extension": ".py",
   "mimetype": "text/x-python",
   "name": "python",
   "nbconvert_exporter": "python",
   "pygments_lexer": "ipython3",
   "version": "3.6.9"
  }
 },
 "nbformat": 4,
 "nbformat_minor": 2
}
