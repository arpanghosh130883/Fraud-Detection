{
 "cells": [
  {
   "cell_type": "code",
   "execution_count": 1,
   "metadata": {},
   "outputs": [],
   "source": [
    "import pandas as pd\n",
    "Signupdata = pd.read_csv('/home/mvisi/Project/DLP/Core/FraudPredict/Notebook/Arpan/Signupdataimputed.csv', error_bad_lines=False)"
   ]
  },
  {
   "cell_type": "code",
   "execution_count": 2,
   "metadata": {},
   "outputs": [],
   "source": [
    "#Seperating Dependent and independent variables \n",
    "#data_final_Org= data_final.copy()\n",
    "Signupdata_ML = Signupdata.copy()\n",
    "X_Signupdata = Signupdata.drop(['Fraud_Acc_Flag'], axis=1, inplace=True)\n",
    "Y_Signupdata = Signupdata_ML.Fraud_Acc_Flag"
   ]
  },
  {
   "cell_type": "code",
   "execution_count": 3,
   "metadata": {},
   "outputs": [],
   "source": [
    "from sklearn.model_selection import train_test_split\n",
    "X_train, X_test, y_train, y_test = train_test_split(Signupdata, Y_Signupdata, test_size=0.30, random_state=42)"
   ]
  },
  {
   "cell_type": "code",
   "execution_count": 4,
   "metadata": {},
   "outputs": [],
   "source": [
    "#HistGradientBoostingClassifier\n",
    "from sklearn.experimental import enable_hist_gradient_boosting\n",
    "from sklearn.ensemble import HistGradientBoostingClassifier\n",
    "gbc=HistGradientBoostingClassifier(learning_rate=0.01, \n",
    "        max_iter=2000, max_leaf_nodes=6, validation_fraction=0.2, \n",
    "        n_iter_no_change=15, random_state=42).fit(X_train,y_train)"
   ]
  },
  {
   "cell_type": "code",
   "execution_count": 5,
   "metadata": {},
   "outputs": [
    {
     "data": {
      "text/html": [
       "<div>\n",
       "<style scoped>\n",
       "    .dataframe tbody tr th:only-of-type {\n",
       "        vertical-align: middle;\n",
       "    }\n",
       "\n",
       "    .dataframe tbody tr th {\n",
       "        vertical-align: top;\n",
       "    }\n",
       "\n",
       "    .dataframe thead th {\n",
       "        text-align: right;\n",
       "    }\n",
       "</style>\n",
       "<table border=\"1\" class=\"dataframe\">\n",
       "  <thead>\n",
       "    <tr style=\"text-align: right;\">\n",
       "      <th></th>\n",
       "      <th>Pred 0(Approve as Legit)</th>\n",
       "      <th>Pred 1(Deny as Fraud)</th>\n",
       "    </tr>\n",
       "  </thead>\n",
       "  <tbody>\n",
       "    <tr>\n",
       "      <th>True 0(Legit)</th>\n",
       "      <td>TN = 124709 (TNR = 100.00%)</td>\n",
       "      <td>FP = 2 (FPR = 0.00%)</td>\n",
       "    </tr>\n",
       "    <tr>\n",
       "      <th>True 1(Fraud)</th>\n",
       "      <td>FN = 236 (FNR = 99.58%)</td>\n",
       "      <td>TP = 1 (TPR = 0.42%)</td>\n",
       "    </tr>\n",
       "  </tbody>\n",
       "</table>\n",
       "</div>"
      ],
      "text/plain": [
       "                  Pred 0(Approve as Legit) Pred 1(Deny as Fraud)\n",
       "True 0(Legit)  TN = 124709 (TNR = 100.00%)  FP = 2 (FPR = 0.00%)\n",
       "True 1(Fraud)      FN = 236 (FNR = 99.58%)  TP = 1 (TPR = 0.42%)"
      ]
     },
     "execution_count": 5,
     "metadata": {},
     "output_type": "execute_result"
    }
   ],
   "source": [
    "from sklearn import model_selection, metrics\n",
    "hardpredtst=gbc.predict(X_test)\n",
    "def conf_matrix(y,pred):\n",
    "    ((tn, fp), (fn, tp)) = metrics.confusion_matrix(y, pred)\n",
    "    ((tnr,fpr),(fnr,tpr))= metrics.confusion_matrix(y, pred, \n",
    "            normalize='true')\n",
    "    return pd.DataFrame([[f'TN = {tn} (TNR = {tnr:1.2%})', \n",
    "                                f'FP = {fp} (FPR = {fpr:1.2%})'], \n",
    "                         [f'FN = {fn} (FNR = {fnr:1.2%})', \n",
    "                                f'TP = {tp} (TPR = {tpr:1.2%})']],\n",
    "            index=['True 0(Legit)', 'True 1(Fraud)'], \n",
    "            columns=['Pred 0(Approve as Legit)', \n",
    "                            'Pred 1(Deny as Fraud)'])\n",
    "conf_matrix(y_test,hardpredtst)"
   ]
  },
  {
   "cell_type": "markdown",
   "metadata": {},
   "source": [
    "# We see that the Recall for Class 1 (Sensitivity or True Positive Rate shown as TPR above) is only 0.42%, meaning that 0.42% of the true frauds are correctly identified as frauds and thus denied. So 99.58% of the true frauds are unfortunately approved as if legitimate"
   ]
  },
  {
   "cell_type": "code",
   "execution_count": 29,
   "metadata": {},
   "outputs": [
    {
     "data": {
      "image/png": "[encoded data removed]",
      "text/plain": [
       "<Figure size 720x432 with 1 Axes>"
      ]
     },
     "metadata": {
      "needs_background": "light"
     },
     "output_type": "display_data"
    }
   ],
   "source": [
    "predtst=gbc.predict_proba(X_test)[:,1]\n",
    "fpr, tpr, thresholds = metrics.roc_curve(y_test, predtst)\n",
    "dfplot=pd.DataFrame({'Threshold':thresholds, \n",
    "        'False Positive Rate':fpr, \n",
    "        'False Negative Rate': 1.-tpr})\n",
    "ax=dfplot.plot(x='Threshold', y=['False Positive Rate',\n",
    "        'False Negative Rate'], figsize=(10,6))\n",
    "ax.plot([0.0022,0.0022],[0,0.3]) #mark example thresh.\n",
    "ax.set_xbound(0,0.0070); ax.set_ybound(0,0.3) "
   ]
  },
  {
   "cell_type": "code",
   "execution_count": 34,
   "metadata": {},
   "outputs": [
    {
     "data": {
      "text/html": [
       "<div>\n",
       "<style scoped>\n",
       "    .dataframe tbody tr th:only-of-type {\n",
       "        vertical-align: middle;\n",
       "    }\n",
       "\n",
       "    .dataframe tbody tr th {\n",
       "        vertical-align: top;\n",
       "    }\n",
       "\n",
       "    .dataframe thead th {\n",
       "        text-align: right;\n",
       "    }\n",
       "</style>\n",
       "<table border=\"1\" class=\"dataframe\">\n",
       "  <thead>\n",
       "    <tr style=\"text-align: right;\">\n",
       "      <th></th>\n",
       "      <th>Pred 0(Approve as Legit)</th>\n",
       "      <th>Pred 1(Deny as Fraud)</th>\n",
       "    </tr>\n",
       "  </thead>\n",
       "  <tbody>\n",
       "    <tr>\n",
       "      <th>True 0(Legit)</th>\n",
       "      <td>TN = 101258 (TNR = 81.19%)</td>\n",
       "      <td>FP = 23453 (FPR = 18.81%)</td>\n",
       "    </tr>\n",
       "    <tr>\n",
       "      <th>True 1(Fraud)</th>\n",
       "      <td>FN = 64 (FNR = 27.00%)</td>\n",
       "      <td>TP = 173 (TPR = 73.00%)</td>\n",
       "    </tr>\n",
       "  </tbody>\n",
       "</table>\n",
       "</div>"
      ],
      "text/plain": [
       "                 Pred 0(Approve as Legit)      Pred 1(Deny as Fraud)\n",
       "True 0(Legit)  TN = 101258 (TNR = 81.19%)  FP = 23453 (FPR = 18.81%)\n",
       "True 1(Fraud)      FN = 64 (FNR = 27.00%)    TP = 173 (TPR = 73.00%)"
      ]
     },
     "execution_count": 34,
     "metadata": {},
     "output_type": "execute_result"
    }
   ],
   "source": [
    "import numpy as np\n",
    "hardpredtst_tuned_thresh = np.where(predtst >= 0.0022, 1, 0)\n",
    "conf_matrix(y_test, hardpredtst_tuned_thresh)"
   ]
  },
  {
   "cell_type": "code",
   "execution_count": 4,
   "metadata": {},
   "outputs": [
    {
     "name": "stderr",
     "output_type": "stream",
     "text": [
      "/home/mvisi/.local/lib/python3.6/site-packages/xgboost/sklearn.py:888: UserWarning: The use of label encoder in XGBClassifier is deprecated and will be removed in a future release. To remove this warning, do the following: 1) Pass option use_label_encoder=False when constructing XGBClassifier object; and 2) Encode your labels (y) as integers starting with 0, i.e. 0, 1, 2, ..., [num_class - 1].\n",
      "  warnings.warn(label_encoder_deprecation_msg, UserWarning)\n"
     ]
    },
    {
     "name": "stdout",
     "output_type": "stream",
     "text": [
      "[04:23:45] WARNING: ../src/learner.cc:1061: Starting in XGBoost 1.3.0, the default evaluation metric used with the objective 'binary:logistic' was changed from 'error' to 'logloss'. Explicitly set eval_metric if you'd like to restore the old behavior.\n"
     ]
    },
    {
     "data": {
      "text/plain": [
       "XGBClassifier(base_score=0.5, booster='gbtree', colsample_bylevel=1,\n",
       "              colsample_bynode=1, colsample_bytree=1, gamma=0, gpu_id=-1,\n",
       "              importance_type='gain', interaction_constraints='',\n",
       "              learning_rate=0.300000012, max_delta_step=0, max_depth=6,\n",
       "              min_child_weight=1, missing=nan, monotone_constraints='()',\n",
       "              n_estimators=100, n_jobs=16, num_parallel_tree=1, random_state=0,\n",
       "              reg_alpha=0, reg_lambda=1, scale_pos_weight=1, subsample=1,\n",
       "              tree_method='exact', validate_parameters=1, verbosity=None)"
      ]
     },
     "execution_count": 4,
     "metadata": {},
     "output_type": "execute_result"
    }
   ],
   "source": [
    "#Applying XGBoost Classification\n",
    "import xgboost as xgb\n",
    "XGBClassifier = xgb.XGBClassifier()\n",
    "XGBClassifier.fit(X_train,y_train)"
   ]
  },
  {
   "cell_type": "code",
   "execution_count": 5,
   "metadata": {},
   "outputs": [
    {
     "data": {
      "text/html": [
       "<div>\n",
       "<style scoped>\n",
       "    .dataframe tbody tr th:only-of-type {\n",
       "        vertical-align: middle;\n",
       "    }\n",
       "\n",
       "    .dataframe tbody tr th {\n",
       "        vertical-align: top;\n",
       "    }\n",
       "\n",
       "    .dataframe thead th {\n",
       "        text-align: right;\n",
       "    }\n",
       "</style>\n",
       "<table border=\"1\" class=\"dataframe\">\n",
       "  <thead>\n",
       "    <tr style=\"text-align: right;\">\n",
       "      <th></th>\n",
       "      <th>Pred 0(Approve as Legit)</th>\n",
       "      <th>Pred 1(Deny as Fraud)</th>\n",
       "    </tr>\n",
       "  </thead>\n",
       "  <tbody>\n",
       "    <tr>\n",
       "      <th>True 0(Legit)</th>\n",
       "      <td>TN = 124700 (TNR = 99.99%)</td>\n",
       "      <td>FP = 11 (FPR = 0.01%)</td>\n",
       "    </tr>\n",
       "    <tr>\n",
       "      <th>True 1(Fraud)</th>\n",
       "      <td>FN = 221 (FNR = 93.25%)</td>\n",
       "      <td>TP = 16 (TPR = 6.75%)</td>\n",
       "    </tr>\n",
       "  </tbody>\n",
       "</table>\n",
       "</div>"
      ],
      "text/plain": [
       "                 Pred 0(Approve as Legit)  Pred 1(Deny as Fraud)\n",
       "True 0(Legit)  TN = 124700 (TNR = 99.99%)  FP = 11 (FPR = 0.01%)\n",
       "True 1(Fraud)     FN = 221 (FNR = 93.25%)  TP = 16 (TPR = 6.75%)"
      ]
     },
     "execution_count": 5,
     "metadata": {},
     "output_type": "execute_result"
    }
   ],
   "source": [
    "from sklearn import model_selection, metrics\n",
    "hardpredtst=XGBClassifier.predict(X_test)\n",
    "def conf_matrix(y,pred):\n",
    "    ((tn, fp), (fn, tp)) = metrics.confusion_matrix(y, pred)\n",
    "    ((tnr,fpr),(fnr,tpr))= metrics.confusion_matrix(y, pred, \n",
    "            normalize='true')\n",
    "    return pd.DataFrame([[f'TN = {tn} (TNR = {tnr:1.2%})', \n",
    "                                f'FP = {fp} (FPR = {fpr:1.2%})'], \n",
    "                         [f'FN = {fn} (FNR = {fnr:1.2%})', \n",
    "                                f'TP = {tp} (TPR = {tpr:1.2%})']],\n",
    "            index=['True 0(Legit)', 'True 1(Fraud)'], \n",
    "            columns=['Pred 0(Approve as Legit)', \n",
    "                            'Pred 1(Deny as Fraud)'])\n",
    "conf_matrix(y_test,hardpredtst)"
   ]
  },
  {
   "cell_type": "code",
   "execution_count": 6,
   "metadata": {},
   "outputs": [
    {
     "data": {
      "image/png": "[encoded data removed]",
      "text/plain": [
       "<Figure size 720x432 with 1 Axes>"
      ]
     },
     "metadata": {
      "needs_background": "light"
     },
     "output_type": "display_data"
    }
   ],
   "source": [
    "predtstXGBC=XGBClassifier.predict_proba(X_test)[:,1] #rerun again\n",
    "fpr, tpr, thresholds = metrics.roc_curve(y_test, predtstXGBC)\n",
    "dfplot=pd.DataFrame({'Threshold':thresholds, \n",
    "        'False Positive Rate':fpr, \n",
    "        'False Negative Rate': 1.-tpr})\n",
    "ax=dfplot.plot(x='Threshold', y=['False Positive Rate',\n",
    "        'False Negative Rate'], figsize=(10,6))\n",
    "#ax.plot([0.00035,0.00035],[0,0.1]) #mark example thresh.\n",
    "ax.set_xbound(0,0.0070); ax.set_ybound(0,0.3) "
   ]
  },
  {
   "cell_type": "code",
   "execution_count": 7,
   "metadata": {},
   "outputs": [
    {
     "data": {
      "text/html": [
       "<div>\n",
       "<style scoped>\n",
       "    .dataframe tbody tr th:only-of-type {\n",
       "        vertical-align: middle;\n",
       "    }\n",
       "\n",
       "    .dataframe tbody tr th {\n",
       "        vertical-align: top;\n",
       "    }\n",
       "\n",
       "    .dataframe thead th {\n",
       "        text-align: right;\n",
       "    }\n",
       "</style>\n",
       "<table border=\"1\" class=\"dataframe\">\n",
       "  <thead>\n",
       "    <tr style=\"text-align: right;\">\n",
       "      <th></th>\n",
       "      <th>Pred 0(Approve as Legit)</th>\n",
       "      <th>Pred 1(Deny as Fraud)</th>\n",
       "    </tr>\n",
       "  </thead>\n",
       "  <tbody>\n",
       "    <tr>\n",
       "      <th>True 0(Legit)</th>\n",
       "      <td>TN = 97986 (TNR = 78.57%)</td>\n",
       "      <td>FP = 26725 (FPR = 21.43%)</td>\n",
       "    </tr>\n",
       "    <tr>\n",
       "      <th>True 1(Fraud)</th>\n",
       "      <td>FN = 51 (FNR = 21.52%)</td>\n",
       "      <td>TP = 186 (TPR = 78.48%)</td>\n",
       "    </tr>\n",
       "  </tbody>\n",
       "</table>\n",
       "</div>"
      ],
      "text/plain": [
       "                Pred 0(Approve as Legit)      Pred 1(Deny as Fraud)\n",
       "True 0(Legit)  TN = 97986 (TNR = 78.57%)  FP = 26725 (FPR = 21.43%)\n",
       "True 1(Fraud)     FN = 51 (FNR = 21.52%)    TP = 186 (TPR = 78.48%)"
      ]
     },
     "execution_count": 7,
     "metadata": {},
     "output_type": "execute_result"
    }
   ],
   "source": [
    "import numpy as np\n",
    "hardpredtst_tuned_threshXGBC = np.where(predtstXGBC >= 0.0012035066029056907, 1, 0)\n",
    "conf_matrix(y_test, hardpredtst_tuned_threshXGBC\n",
    "        )"
   ]
  },
  {
   "cell_type": "code",
   "execution_count": 78,
   "metadata": {},
   "outputs": [
    {
     "data": {
      "text/html": [
       "<div>\n",
       "<style scoped>\n",
       "    .dataframe tbody tr th:only-of-type {\n",
       "        vertical-align: middle;\n",
       "    }\n",
       "\n",
       "    .dataframe tbody tr th {\n",
       "        vertical-align: top;\n",
       "    }\n",
       "\n",
       "    .dataframe thead th {\n",
       "        text-align: right;\n",
       "    }\n",
       "</style>\n",
       "<table border=\"1\" class=\"dataframe\">\n",
       "  <thead>\n",
       "    <tr style=\"text-align: right;\">\n",
       "      <th></th>\n",
       "      <th>Pred 0(Approve as Legit)</th>\n",
       "      <th>Pred 1(Deny as Fraud)</th>\n",
       "    </tr>\n",
       "  </thead>\n",
       "  <tbody>\n",
       "    <tr>\n",
       "      <th>True 0(Legit)</th>\n",
       "      <td>TN = 116077 (TNR = 93.08%)</td>\n",
       "      <td>FP = 8634 (FPR = 6.92%)</td>\n",
       "    </tr>\n",
       "    <tr>\n",
       "      <th>True 1(Fraud)</th>\n",
       "      <td>FN = 86 (FNR = 36.29%)</td>\n",
       "      <td>TP = 151 (TPR = 63.71%)</td>\n",
       "    </tr>\n",
       "  </tbody>\n",
       "</table>\n",
       "</div>"
      ],
      "text/plain": [
       "                 Pred 0(Approve as Legit)    Pred 1(Deny as Fraud)\n",
       "True 0(Legit)  TN = 116077 (TNR = 93.08%)  FP = 8634 (FPR = 6.92%)\n",
       "True 1(Fraud)      FN = 86 (FNR = 36.29%)  TP = 151 (TPR = 63.71%)"
      ]
     },
     "execution_count": 78,
     "metadata": {},
     "output_type": "execute_result"
    }
   ],
   "source": [
    "#0.007600000000000007\n",
    "hardpredtst_tuned_threshXGBC = np.where(predtstXGBC >= 0.003600000000000007, 1, 0)\n",
    "conf_matrix(y_test, hardpredtst_tuned_threshXGBC)"
   ]
  },
  {
   "cell_type": "code",
   "execution_count": 72,
   "metadata": {},
   "outputs": [
    {
     "data": {
      "text/plain": [
       "array([1.9637539e-05, 3.1839756e-03, 3.3025008e-02, ..., 1.1867509e-04,\n",
       "       8.3018705e-04, 2.1087856e-03], dtype=float32)"
      ]
     },
     "execution_count": 72,
     "metadata": {},
     "output_type": "execute_result"
    }
   ],
   "source": [
    "predtstXGBC"
   ]
  },
  {
   "cell_type": "code",
   "execution_count": 8,
   "metadata": {},
   "outputs": [
    {
     "name": "stdout",
     "output_type": "stream",
     "text": [
      "{'learning_rate': [0.05, 0.1, 0.15, 0.2, 0.25, 0.3], 'max_depth': [3, 4, 5, 6, 8, 10, 12, 15], 'min_child_weight': [1, 3, 5, 7], 'gamma': [0.0, 0.1, 0.2, 0.3, 0.4], 'colsample_bytree': [0.3, 0.4, 0.5, 0.7], 'eval_metric': ['aucpr'], 'objective': ['binary:logistic']}\n"
     ]
    }
   ],
   "source": [
    "#Hypertuning the XGBClassifier\n",
    "params={\n",
    " \"learning_rate\"    : [0.05, 0.10, 0.15, 0.20, 0.25, 0.30 ] ,\n",
    " \"max_depth\"        : [ 3, 4, 5, 6, 8, 10, 12, 15],\n",
    " \"min_child_weight\" : [ 1, 3, 5, 7 ],\n",
    " \"gamma\"            : [ 0.0, 0.1, 0.2 , 0.3, 0.4 ],\n",
    " \"colsample_bytree\" : [ 0.3, 0.4, 0.5 , 0.7 ],\n",
    " \"eval_metric\"      : [\"aucpr\"],\n",
    "\"objective\"      : [\"binary:logistic\"]\n",
    "#\"scale_pos_weight\"  : [1, 10, 25, 50, 75, 99, 100, 200]\n",
    "    \n",
    "}\n",
    "print (params)"
   ]
  },
  {
   "cell_type": "code",
   "execution_count": 9,
   "metadata": {},
   "outputs": [],
   "source": [
    "## Hyperparameter optimization using RandomizedSearchCV\n",
    "from sklearn.model_selection import RandomizedSearchCV, GridSearchCV\n",
    "from sklearn.model_selection import RepeatedStratifiedKFold\n",
    "cv=RepeatedStratifiedKFold(n_splits=10, n_repeats=3, random_state=1)"
   ]
  },
  {
   "cell_type": "code",
   "execution_count": 10,
   "metadata": {},
   "outputs": [],
   "source": [
    "XGBClassifier = xgb.XGBClassifier()\n",
    "random_searchCV=RandomizedSearchCV(XGBClassifier,param_distributions=params,n_iter=7,scoring='f1_macro',n_jobs=-1,#cv=4,\n",
    "                                 refit=True,cv=cv,\n",
    "                                 verbose=3)"
   ]
  },
  {
   "cell_type": "code",
   "execution_count": 82,
   "metadata": {},
   "outputs": [
    {
     "name": "stdout",
     "output_type": "stream",
     "text": [
      "Fitting 30 folds for each of 7 candidates, totalling 210 fits\n"
     ]
    },
    {
     "name": "stderr",
     "output_type": "stream",
     "text": [
      "[Parallel(n_jobs=-1)]: Using backend LokyBackend with 16 concurrent workers.\n",
      "[Parallel(n_jobs=-1)]: Done  96 tasks      | elapsed: 26.4min\n",
      "[Parallel(n_jobs=-1)]: Done 210 out of 210 | elapsed: 50.5min finished\n",
      "/home/mvisi/.local/lib/python3.6/site-packages/xgboost/sklearn.py:888: UserWarning: The use of label encoder in XGBClassifier is deprecated and will be removed in a future release. To remove this warning, do the following: 1) Pass option use_label_encoder=False when constructing XGBClassifier object; and 2) Encode your labels (y) as integers starting with 0, i.e. 0, 1, 2, ..., [num_class - 1].\n",
      "  warnings.warn(label_encoder_deprecation_msg, UserWarning)\n"
     ]
    },
    {
     "data": {
      "text/plain": [
       "RandomizedSearchCV(cv=RepeatedStratifiedKFold(n_repeats=3, n_splits=10, random_state=1),\n",
       "                   estimator=XGBClassifier(base_score=None, booster=None,\n",
       "                                           colsample_bylevel=None,\n",
       "                                           colsample_bynode=None,\n",
       "                                           colsample_bytree=None, gamma=None,\n",
       "                                           gpu_id=None, importance_type='gain',\n",
       "                                           interaction_constraints=None,\n",
       "                                           learning_rate=None,\n",
       "                                           max_delta_step=None, max_depth=None,\n",
       "                                           min_child_weigh...\n",
       "                                           subsample=None, tree_method=None,\n",
       "                                           validate_parameters=None,\n",
       "                                           verbosity=None),\n",
       "                   n_iter=7, n_jobs=-1,\n",
       "                   param_distributions={'colsample_bytree': [0.3, 0.4, 0.5,\n",
       "                                                             0.7],\n",
       "                                        'eval_metric': ['aucpr'],\n",
       "                                        'gamma': [0.0, 0.1, 0.2, 0.3, 0.4],\n",
       "                                        'learning_rate': [0.05, 0.1, 0.15, 0.2,\n",
       "                                                          0.25, 0.3],\n",
       "                                        'max_depth': [3, 4, 5, 6, 8, 10, 12,\n",
       "                                                      15],\n",
       "                                        'min_child_weight': [1, 3, 5, 7],\n",
       "                                        'objective': ['binary:logistic']},\n",
       "                   scoring='f1_macro', verbose=3)"
      ]
     },
     "execution_count": 82,
     "metadata": {},
     "output_type": "execute_result"
    }
   ],
   "source": [
    "random_searchCV.fit(X_train, y_train)"
   ]
  },
  {
   "cell_type": "code",
   "execution_count": 83,
   "metadata": {},
   "outputs": [
    {
     "data": {
      "text/plain": [
       "XGBClassifier(base_score=0.5, booster='gbtree', colsample_bylevel=1,\n",
       "              colsample_bynode=1, colsample_bytree=0.3, eval_metric='aucpr',\n",
       "              gamma=0.2, gpu_id=-1, importance_type='gain',\n",
       "              interaction_constraints='', learning_rate=0.25, max_delta_step=0,\n",
       "              max_depth=15, min_child_weight=1, missing=nan,\n",
       "              monotone_constraints='()', n_estimators=100, n_jobs=16,\n",
       "              num_parallel_tree=1, random_state=0, reg_alpha=0, reg_lambda=1,\n",
       "              scale_pos_weight=1, subsample=1, tree_method='exact',\n",
       "              validate_parameters=1, verbosity=None)"
      ]
     },
     "execution_count": 83,
     "metadata": {},
     "output_type": "execute_result"
    }
   ],
   "source": [
    "random_searchCV.best_estimator_"
   ]
  },
  {
   "cell_type": "code",
   "execution_count": 11,
   "metadata": {},
   "outputs": [
    {
     "name": "stderr",
     "output_type": "stream",
     "text": [
      "/home/mvisi/.local/lib/python3.6/site-packages/xgboost/sklearn.py:888: UserWarning: The use of label encoder in XGBClassifier is deprecated and will be removed in a future release. To remove this warning, do the following: 1) Pass option use_label_encoder=False when constructing XGBClassifier object; and 2) Encode your labels (y) as integers starting with 0, i.e. 0, 1, 2, ..., [num_class - 1].\n",
      "  warnings.warn(label_encoder_deprecation_msg, UserWarning)\n"
     ]
    },
    {
     "data": {
      "text/plain": [
       "XGBClassifier(base_score=0.5, booster='gbtree', colsample_bylevel=1,\n",
       "              colsample_bynode=1, colsample_bytree=0.3, eval_metric='aucpr',\n",
       "              gamma=0.2, gpu_id=-1, importance_type='gain',\n",
       "              interaction_constraints='', learning_rate=0.25, max_delta_step=0,\n",
       "              max_depth=15, min_child_weight=1, missing=nan,\n",
       "              monotone_constraints='()', n_estimators=100, n_jobs=16,\n",
       "              num_parallel_tree=1, random_state=0, reg_alpha=0, reg_lambda=1,\n",
       "              scale_pos_weight=1, subsample=1, tree_method='exact',\n",
       "              validate_parameters=1, verbosity=None)"
      ]
     },
     "execution_count": 11,
     "metadata": {},
     "output_type": "execute_result"
    }
   ],
   "source": [
    "#Applying hypertuned XGBoost\n",
    "XGBClassifiertuned = xgb.XGBClassifier(base_score=0.5, booster='gbtree', colsample_bylevel=1,\n",
    "              colsample_bynode=1, colsample_bytree=0.3, eval_metric='aucpr',\n",
    "              gamma=0.2, gpu_id=-1, importance_type='gain',\n",
    "              interaction_constraints='', learning_rate=0.25, max_delta_step=0,\n",
    "              max_depth=15, min_child_weight=1, \n",
    "              monotone_constraints='()', n_estimators=100, n_jobs=16,\n",
    "              num_parallel_tree=1, random_state=0, reg_alpha=0, reg_lambda=1,\n",
    "              scale_pos_weight=1, subsample=1, tree_method='exact',\n",
    "              validate_parameters=1, verbosity=None)\n",
    "XGBClassifiertuned.fit(X_train,y_train)\n"
   ]
  },
  {
   "cell_type": "code",
   "execution_count": 12,
   "metadata": {},
   "outputs": [
    {
     "data": {
      "text/html": [
       "<div>\n",
       "<style scoped>\n",
       "    .dataframe tbody tr th:only-of-type {\n",
       "        vertical-align: middle;\n",
       "    }\n",
       "\n",
       "    .dataframe tbody tr th {\n",
       "        vertical-align: top;\n",
       "    }\n",
       "\n",
       "    .dataframe thead th {\n",
       "        text-align: right;\n",
       "    }\n",
       "</style>\n",
       "<table border=\"1\" class=\"dataframe\">\n",
       "  <thead>\n",
       "    <tr style=\"text-align: right;\">\n",
       "      <th></th>\n",
       "      <th>Pred 0(Approve as Legit)</th>\n",
       "      <th>Pred 1(Deny as Fraud)</th>\n",
       "    </tr>\n",
       "  </thead>\n",
       "  <tbody>\n",
       "    <tr>\n",
       "      <th>True 0(Legit)</th>\n",
       "      <td>TN = 124704 (TNR = 99.99%)</td>\n",
       "      <td>FP = 7 (FPR = 0.01%)</td>\n",
       "    </tr>\n",
       "    <tr>\n",
       "      <th>True 1(Fraud)</th>\n",
       "      <td>FN = 212 (FNR = 89.45%)</td>\n",
       "      <td>TP = 25 (TPR = 10.55%)</td>\n",
       "    </tr>\n",
       "  </tbody>\n",
       "</table>\n",
       "</div>"
      ],
      "text/plain": [
       "                 Pred 0(Approve as Legit)   Pred 1(Deny as Fraud)\n",
       "True 0(Legit)  TN = 124704 (TNR = 99.99%)    FP = 7 (FPR = 0.01%)\n",
       "True 1(Fraud)     FN = 212 (FNR = 89.45%)  TP = 25 (TPR = 10.55%)"
      ]
     },
     "execution_count": 12,
     "metadata": {},
     "output_type": "execute_result"
    }
   ],
   "source": [
    "from sklearn import model_selection, metrics\n",
    "hardpredtst=XGBClassifiertuned.predict(X_test)\n",
    "def conf_matrix(y,pred):\n",
    "    ((tn, fp), (fn, tp)) = metrics.confusion_matrix(y, pred)\n",
    "    ((tnr,fpr),(fnr,tpr))= metrics.confusion_matrix(y, pred, \n",
    "            normalize='true')\n",
    "    return pd.DataFrame([[f'TN = {tn} (TNR = {tnr:1.2%})', \n",
    "                                f'FP = {fp} (FPR = {fpr:1.2%})'], \n",
    "                         [f'FN = {fn} (FNR = {fnr:1.2%})', \n",
    "                                f'TP = {tp} (TPR = {tpr:1.2%})']],\n",
    "            index=['True 0(Legit)', 'True 1(Fraud)'], \n",
    "            columns=['Pred 0(Approve as Legit)', \n",
    "                            'Pred 1(Deny as Fraud)'])\n",
    "conf_matrix(y_test,hardpredtst)"
   ]
  },
  {
   "cell_type": "code",
   "execution_count": 13,
   "metadata": {},
   "outputs": [
    {
     "data": {
      "image/png": "[encoded data removed]",
      "text/plain": [
       "<Figure size 720x432 with 1 Axes>"
      ]
     },
     "metadata": {
      "needs_background": "light"
     },
     "output_type": "display_data"
    }
   ],
   "source": [
    "predtstXGBCT=XGBClassifiertuned.predict_proba(X_test)[:,1]\n",
    "fpr, tpr, thresholds = metrics.roc_curve(y_test, predtstXGBCT)\n",
    "dfplot=pd.DataFrame({'Threshold':thresholds, \n",
    "        'False Positive Rate':fpr, \n",
    "        'False Negative Rate': 1.-tpr})\n",
    "ax=dfplot.plot(x='Threshold', y=['False Positive Rate',\n",
    "        'False Negative Rate'], figsize=(10,6))\n",
    "#ax.plot([0.0022,0.0022],[0,0.3]) #mark example thresh.\n",
    "ax.set_xbound(0,0.005); ax.set_ybound(0,0.3) #zoom in"
   ]
  },
  {
   "cell_type": "code",
   "execution_count": 14,
   "metadata": {},
   "outputs": [],
   "source": [
    "from sklearn.metrics import roc_curve"
   ]
  },
  {
   "cell_type": "code",
   "execution_count": 17,
   "metadata": {},
   "outputs": [],
   "source": [
    "#for XGBClassifer\n",
    "def Find_Optimal_Cutoff(target, predicted):\n",
    "    \"\"\" Find the optimal probability cutoff point for a classification model related to event rate\n",
    "    Parameters\n",
    "    ----------\n",
    "    target : Matrix with dependent or target data, where rows are observations\n",
    "\n",
    "    predicted : Matrix with predicted data, where rows are observations\n",
    "\n",
    "    Returns\n",
    "    -------     \n",
    "    list type, with optimal cutoff value\n",
    "\n",
    "    \"\"\"\n",
    "    fpr, tpr, threshold = roc_curve(y_test, predtstXGBC)\n",
    "    i = np.arange(len(tpr)) \n",
    "    # tpr -(1-fpr) is zero near the optimal point\n",
    "    roc = pd.DataFrame({'tf' : pd.Series(tpr-(1-fpr), index=i), 'threshold' : pd.Series(threshold, index=i)})\n",
    "    roc_t = roc.iloc[(roc.tf-0).abs().argsort()[:1]]\n",
    "    return list(roc_t['threshold']),roc"
   ]
  },
  {
   "cell_type": "code",
   "execution_count": 22,
   "metadata": {},
   "outputs": [
    {
     "name": "stdout",
     "output_type": "stream",
     "text": [
      "[0.000296951417112723]\n"
     ]
    }
   ],
   "source": [
    "from sklearn.metrics import roc_curve\n",
    "Optimal_Cutoff,roc = Find_Optimal_Cutoff(y_test.values, predtstXGBC)\n",
    "print (Optimal_Cutoff)"
   ]
  },
  {
   "cell_type": "code",
   "execution_count": 23,
   "metadata": {},
   "outputs": [],
   "source": [
    "#for tuned XGBClassifer\n",
    "def Find_Optimal_Cutoff(target, predicted):\n",
    "    \"\"\" Find the optimal probability cutoff point for a classification model related to event rate\n",
    "    Parameters\n",
    "    ----------\n",
    "    target : Matrix with dependent or target data, where rows are observations\n",
    "\n",
    "    predicted : Matrix with predicted data, where rows are observations\n",
    "\n",
    "    Returns\n",
    "    -------     \n",
    "    list type, with optimal cutoff value\n",
    "\n",
    "    \"\"\"\n",
    "    fpr, tpr, threshold = roc_curve(y_test, predtstXGBCT)\n",
    "    i = np.arange(len(tpr)) \n",
    "    # tpr -(1-fpr) is zero near the optimal point\n",
    "    roc = pd.DataFrame({'tf' : pd.Series(tpr-(1-fpr), index=i), 'threshold' : pd.Series(threshold, index=i)})\n",
    "    roc_t = roc.iloc[(roc.tf-0).abs().argsort()[:1]]\n",
    "    return list(roc_t['threshold']),roc"
   ]
  },
  {
   "cell_type": "code",
   "execution_count": 24,
   "metadata": {},
   "outputs": [
    {
     "name": "stdout",
     "output_type": "stream",
     "text": [
      "[0.000296951417112723]\n"
     ]
    }
   ],
   "source": [
    "Optimal_Cutoff,roc = Find_Optimal_Cutoff(y_test.values, predtstXGBCT)\n",
    "print (Optimal_Cutoff)"
   ]
  },
  {
   "cell_type": "code",
   "execution_count": 25,
   "metadata": {},
   "outputs": [
    {
     "data": {
      "text/html": [
       "<div>\n",
       "<style scoped>\n",
       "    .dataframe tbody tr th:only-of-type {\n",
       "        vertical-align: middle;\n",
       "    }\n",
       "\n",
       "    .dataframe tbody tr th {\n",
       "        vertical-align: top;\n",
       "    }\n",
       "\n",
       "    .dataframe thead th {\n",
       "        text-align: right;\n",
       "    }\n",
       "</style>\n",
       "<table border=\"1\" class=\"dataframe\">\n",
       "  <thead>\n",
       "    <tr style=\"text-align: right;\">\n",
       "      <th></th>\n",
       "      <th>Pred 0(Approve as Legit)</th>\n",
       "      <th>Pred 1(Deny as Fraud)</th>\n",
       "    </tr>\n",
       "  </thead>\n",
       "  <tbody>\n",
       "    <tr>\n",
       "      <th>True 0(Legit)</th>\n",
       "      <td>TN = 96910 (TNR = 77.71%)</td>\n",
       "      <td>FP = 27801 (FPR = 22.29%)</td>\n",
       "    </tr>\n",
       "    <tr>\n",
       "      <th>True 1(Fraud)</th>\n",
       "      <td>FN = 53 (FNR = 22.36%)</td>\n",
       "      <td>TP = 184 (TPR = 77.64%)</td>\n",
       "    </tr>\n",
       "  </tbody>\n",
       "</table>\n",
       "</div>"
      ],
      "text/plain": [
       "                Pred 0(Approve as Legit)      Pred 1(Deny as Fraud)\n",
       "True 0(Legit)  TN = 96910 (TNR = 77.71%)  FP = 27801 (FPR = 22.29%)\n",
       "True 1(Fraud)     FN = 53 (FNR = 22.36%)    TP = 184 (TPR = 77.64%)"
      ]
     },
     "execution_count": 25,
     "metadata": {},
     "output_type": "execute_result"
    }
   ],
   "source": [
    "hardpredtst_tuned_threshXGBCT = np.where(predtstXGBCT >= 0.000296951417112723, 1, 0)\n",
    "conf_matrix(y_test, hardpredtst_tuned_threshXGBCT)"
   ]
  },
  {
   "cell_type": "code",
   "execution_count": 93,
   "metadata": {},
   "outputs": [
    {
     "data": {
      "text/plain": [
       "array([1.7061473e-04, 8.1319711e-05, 9.0411808e-03, ..., 1.3887111e-04,\n",
       "       4.5958729e-04, 1.8180859e-04], dtype=float32)"
      ]
     },
     "execution_count": 93,
     "metadata": {},
     "output_type": "execute_result"
    }
   ],
   "source": [
    "XGBClassifiertuned.predict_proba(X_test)[:,1]"
   ]
  },
  {
   "cell_type": "code",
   "execution_count": 70,
   "metadata": {},
   "outputs": [
    {
     "data": {
      "text/plain": [
       "array([0, 0, 0, ..., 0, 0, 0])"
      ]
     },
     "execution_count": 70,
     "metadata": {},
     "output_type": "execute_result"
    }
   ],
   "source": [
    "y_test.values"
   ]
  },
  {
   "cell_type": "code",
   "execution_count": 34,
   "metadata": {},
   "outputs": [],
   "source": [
    "#The best hyperparameters:\n",
    "param = {'alpha': 9.0,\n",
    " 'colsample_bytree': 0.75,\n",
    " 'eta': 0.25,\n",
    " 'gamma': 0.9,\n",
    " 'lambda': 1.1,\n",
    " 'max_depth': 11,\n",
    " 'min_child_weight': 6.0,\n",
    " 'scale_pos_weight': 350.0,\n",
    " 'subsample': 0.7000000000000001}"
   ]
  },
  {
   "cell_type": "code",
   "execution_count": 37,
   "metadata": {},
   "outputs": [
    {
     "name": "stdout",
     "output_type": "stream",
     "text": [
      "[14:17:08] WARNING: ../src/learner.cc:1061: Starting in XGBoost 1.3.0, the default evaluation metric used with the objective 'binary:logistic' was changed from 'error' to 'logloss'. Explicitly set eval_metric if you'd like to restore the old behavior.\n"
     ]
    },
    {
     "data": {
      "text/plain": [
       "XGBClassifier(alpha=9.0, base_score=0.5, booster='gbtree', colsample_bylevel=1,\n",
       "              colsample_bynode=1, colsample_bytree=0.75, eta=0.25, gamma=0.9,\n",
       "              gpu_id=-1, importance_type='gain', interaction_constraints='',\n",
       "              lambda=1.1, learning_rate=0.25, max_delta_step=0, max_depth=11,\n",
       "              min_child_weight=6.0, missing=nan, monotone_constraints='()',\n",
       "              n_estimators=100, n_jobs=16, num_parallel_tree=1, random_state=0,\n",
       "              reg_alpha=9, reg_lambda=1.10000002, scale_pos_weight=350.0,\n",
       "              subsample=0.7000000000000001, tree_method='exact',\n",
       "              validate_parameters=1, verbosity=None)"
      ]
     },
     "execution_count": 37,
     "metadata": {},
     "output_type": "execute_result"
    }
   ],
   "source": [
    "#Hyperparameter tuned XGBOOST with previous paramaters\n",
    "import xgboost as xgb\n",
    "#XGBClassifier = xgb.XGBClassifier()\n",
    "XGBClassifiertunedold = xgb.XGBClassifier(**param)\n",
    "XGBClassifiertunedold.fit(X_train,y_train)\n",
    "\n"
   ]
  },
  {
   "cell_type": "code",
   "execution_count": 38,
   "metadata": {},
   "outputs": [
    {
     "data": {
      "text/html": [
       "<div>\n",
       "<style scoped>\n",
       "    .dataframe tbody tr th:only-of-type {\n",
       "        vertical-align: middle;\n",
       "    }\n",
       "\n",
       "    .dataframe tbody tr th {\n",
       "        vertical-align: top;\n",
       "    }\n",
       "\n",
       "    .dataframe thead th {\n",
       "        text-align: right;\n",
       "    }\n",
       "</style>\n",
       "<table border=\"1\" class=\"dataframe\">\n",
       "  <thead>\n",
       "    <tr style=\"text-align: right;\">\n",
       "      <th></th>\n",
       "      <th>Pred 0(Approve as Legit)</th>\n",
       "      <th>Pred 1(Deny as Fraud)</th>\n",
       "    </tr>\n",
       "  </thead>\n",
       "  <tbody>\n",
       "    <tr>\n",
       "      <th>True 0(Legit)</th>\n",
       "      <td>TN = 124521 (TNR = 99.85%)</td>\n",
       "      <td>FP = 190 (FPR = 0.15%)</td>\n",
       "    </tr>\n",
       "    <tr>\n",
       "      <th>True 1(Fraud)</th>\n",
       "      <td>FN = 168 (FNR = 70.89%)</td>\n",
       "      <td>TP = 69 (TPR = 29.11%)</td>\n",
       "    </tr>\n",
       "  </tbody>\n",
       "</table>\n",
       "</div>"
      ],
      "text/plain": [
       "                 Pred 0(Approve as Legit)   Pred 1(Deny as Fraud)\n",
       "True 0(Legit)  TN = 124521 (TNR = 99.85%)  FP = 190 (FPR = 0.15%)\n",
       "True 1(Fraud)     FN = 168 (FNR = 70.89%)  TP = 69 (TPR = 29.11%)"
      ]
     },
     "execution_count": 38,
     "metadata": {},
     "output_type": "execute_result"
    }
   ],
   "source": [
    "from sklearn import model_selection, metrics\n",
    "hardpredtstold=XGBClassifiertunedold.predict(X_test)\n",
    "def conf_matrix(y,pred):\n",
    "    ((tn, fp), (fn, tp)) = metrics.confusion_matrix(y, pred)\n",
    "    ((tnr,fpr),(fnr,tpr))= metrics.confusion_matrix(y, pred, \n",
    "            normalize='true')\n",
    "    return pd.DataFrame([[f'TN = {tn} (TNR = {tnr:1.2%})', \n",
    "                                f'FP = {fp} (FPR = {fpr:1.2%})'], \n",
    "                         [f'FN = {fn} (FNR = {fnr:1.2%})', \n",
    "                                f'TP = {tp} (TPR = {tpr:1.2%})']],\n",
    "            index=['True 0(Legit)', 'True 1(Fraud)'], \n",
    "            columns=['Pred 0(Approve as Legit)', \n",
    "                            'Pred 1(Deny as Fraud)'])\n",
    "conf_matrix(y_test,hardpredtstold)"
   ]
  },
  {
   "cell_type": "code",
   "execution_count": 39,
   "metadata": {},
   "outputs": [],
   "source": [
    "predtstXGBCTold=XGBClassifiertunedold.predict_proba(X_test)[:,1]\n",
    "def Find_Optimal_Cutoff(target, predicted):\n",
    "    \"\"\" Find the optimal probability cutoff point for a classification model related to event rate\n",
    "    Parameters\n",
    "    ----------\n",
    "    target : Matrix with dependent or target data, where rows are observations\n",
    "\n",
    "    predicted : Matrix with predicted data, where rows are observations\n",
    "\n",
    "    Returns\n",
    "    -------     \n",
    "    list type, with optimal cutoff value\n",
    "\n",
    "    \"\"\"\n",
    "    fpr, tpr, threshold = roc_curve(y_test, predtstXGBCTold)\n",
    "    i = np.arange(len(tpr)) \n",
    "    # tpr -(1-fpr) is zero near the optimal point\n",
    "    roc = pd.DataFrame({'tf' : pd.Series(tpr-(1-fpr), index=i), 'threshold' : pd.Series(threshold, index=i)})\n",
    "    roc_t = roc.iloc[(roc.tf-0).abs().argsort()[:1]]\n",
    "    return list(roc_t['threshold']),roc"
   ]
  },
  {
   "cell_type": "code",
   "execution_count": 40,
   "metadata": {},
   "outputs": [
    {
     "name": "stderr",
     "output_type": "stream",
     "text": [
      "INFO:numexpr.utils:Note: NumExpr detected 16 cores but \"NUMEXPR_MAX_THREADS\" not set, so enforcing safe limit of 8.\n",
      "INFO:numexpr.utils:NumExpr defaulting to 8 threads.\n"
     ]
    },
    {
     "name": "stdout",
     "output_type": "stream",
     "text": [
      "[0.0020802586805075407]\n"
     ]
    }
   ],
   "source": [
    "Optimal_Cutoff,roc = Find_Optimal_Cutoff(y_test.values, predtstXGBCTold)\n",
    "print (Optimal_Cutoff)"
   ]
  },
  {
   "cell_type": "code",
   "execution_count": 41,
   "metadata": {},
   "outputs": [
    {
     "data": {
      "text/html": [
       "<div>\n",
       "<style scoped>\n",
       "    .dataframe tbody tr th:only-of-type {\n",
       "        vertical-align: middle;\n",
       "    }\n",
       "\n",
       "    .dataframe tbody tr th {\n",
       "        vertical-align: top;\n",
       "    }\n",
       "\n",
       "    .dataframe thead th {\n",
       "        text-align: right;\n",
       "    }\n",
       "</style>\n",
       "<table border=\"1\" class=\"dataframe\">\n",
       "  <thead>\n",
       "    <tr style=\"text-align: right;\">\n",
       "      <th></th>\n",
       "      <th>Pred 0(Approve as Legit)</th>\n",
       "      <th>Pred 1(Deny as Fraud)</th>\n",
       "    </tr>\n",
       "  </thead>\n",
       "  <tbody>\n",
       "    <tr>\n",
       "      <th>True 0(Legit)</th>\n",
       "      <td>TN = 96417 (TNR = 77.31%)</td>\n",
       "      <td>FP = 28294 (FPR = 22.69%)</td>\n",
       "    </tr>\n",
       "    <tr>\n",
       "      <th>True 1(Fraud)</th>\n",
       "      <td>FN = 54 (FNR = 22.78%)</td>\n",
       "      <td>TP = 183 (TPR = 77.22%)</td>\n",
       "    </tr>\n",
       "  </tbody>\n",
       "</table>\n",
       "</div>"
      ],
      "text/plain": [
       "                Pred 0(Approve as Legit)      Pred 1(Deny as Fraud)\n",
       "True 0(Legit)  TN = 96417 (TNR = 77.31%)  FP = 28294 (FPR = 22.69%)\n",
       "True 1(Fraud)     FN = 54 (FNR = 22.78%)    TP = 183 (TPR = 77.22%)"
      ]
     },
     "execution_count": 41,
     "metadata": {},
     "output_type": "execute_result"
    }
   ],
   "source": [
    "hardpredtst_tuned_threshXGBCTold = np.where(predtstXGBCTold >= 0.0020802586805075407, 1, 0)\n",
    "conf_matrix(y_test, hardpredtst_tuned_threshXGBCTold)"
   ]
  },
  {
   "cell_type": "code",
   "execution_count": null,
   "metadata": {},
   "outputs": [],
   "source": []
  },
  {
   "cell_type": "code",
   "execution_count": null,
   "metadata": {},
   "outputs": [],
   "source": []
  },
  {
   "cell_type": "code",
   "execution_count": null,
   "metadata": {},
   "outputs": [],
   "source": []
  },
  {
   "cell_type": "code",
   "execution_count": null,
   "metadata": {},
   "outputs": [],
   "source": []
  },
  {
   "cell_type": "markdown",
   "metadata": {},
   "source": [
    "# XGBClassifier gave the similar result even compared to Tuned XGBClasifier with Dynamic Threshold cutoff generation"
   ]
  },
  {
   "cell_type": "code",
   "execution_count": null,
   "metadata": {},
   "outputs": [],
   "source": [
    "# Testing hyperparameter tuned XGBoost with Randomoversample data"
   ]
  },
  {
   "cell_type": "code",
   "execution_count": null,
   "metadata": {},
   "outputs": [],
   "source": []
  },
  {
   "cell_type": "code",
   "execution_count": null,
   "metadata": {},
   "outputs": [],
   "source": []
  },
  {
   "cell_type": "code",
   "execution_count": null,
   "metadata": {},
   "outputs": [],
   "source": []
  },
  {
   "cell_type": "code",
   "execution_count": null,
   "metadata": {},
   "outputs": [],
   "source": []
  },
  {
   "cell_type": "code",
   "execution_count": null,
   "metadata": {},
   "outputs": [],
   "source": []
  },
  {
   "cell_type": "code",
   "execution_count": null,
   "metadata": {},
   "outputs": [],
   "source": []
  },
  {
   "cell_type": "markdown",
   "metadata": {},
   "source": [
    "# Checking interpretability using Shapash library"
   ]
  },
  {
   "cell_type": "code",
   "execution_count": 16,
   "metadata": {},
   "outputs": [
    {
     "name": "stdout",
     "output_type": "stream",
     "text": [
      "Defaulting to user installation because normal site-packages is not writeable\n",
      "Collecting shapash\n",
      "  Downloading shapash-1.2.0-py2.py3-none-any.whl (841 kB)\n",
      "\u001b[K     |████████████████████████████████| 841 kB 8.0 MB/s eta 0:00:01\n",
      "\u001b[?25hCollecting dash-bootstrap-components==0.9.1\n",
      "  Downloading dash-bootstrap-components-0.9.1.tar.gz (99 kB)\n",
      "\u001b[K     |████████████████████████████████| 99 kB 11.3 MB/s eta 0:00:01\n",
      "\u001b[?25h  Installing build dependencies ... \u001b[?25ldone\n",
      "\u001b[?25h  Getting requirements to build wheel ... \u001b[?25ldone\n",
      "\u001b[?25h    Preparing wheel metadata ... \u001b[?25ldone\n",
      "\u001b[?25hRequirement already satisfied: numpy>1.18.0 in /home/mvisi/.local/lib/python3.6/site-packages (from shapash) (1.19.5)\n",
      "Collecting shap==0.37.0\n",
      "  Downloading shap-0.37.0.tar.gz (326 kB)\n",
      "\u001b[K     |████████████████████████████████| 326 kB 11.2 MB/s eta 0:00:01\n",
      "\u001b[?25hCollecting dash-table==4.11.0\n",
      "  Downloading dash_table-4.11.0.tar.gz (1.8 MB)\n",
      "\u001b[K     |████████████████████████████████| 1.8 MB 11.7 MB/s eta 0:00:01\n",
      "\u001b[?25hCollecting dash-renderer==1.8.3\n",
      "  Downloading dash_renderer-1.8.3.tar.gz (1.0 MB)\n",
      "\u001b[K     |████████████████████████████████| 1.0 MB 10.8 MB/s eta 0:00:01\n",
      "\u001b[?25hCollecting dash-core-components==1.13.0\n",
      "  Downloading dash_core_components-1.13.0.tar.gz (3.5 MB)\n",
      "\u001b[K     |████████████████████████████████| 3.5 MB 11.6 MB/s eta 0:00:01\n",
      "\u001b[?25hCollecting dash-daq==0.5.0\n",
      "  Downloading dash_daq-0.5.0.tar.gz (642 kB)\n",
      "\u001b[K     |████████████████████████████████| 642 kB 9.6 MB/s eta 0:00:01\n",
      "\u001b[?25hCollecting dash-html-components==1.1.1\n",
      "  Downloading dash_html_components-1.1.1.tar.gz (188 kB)\n",
      "\u001b[K     |████████████████████████████████| 188 kB 12.0 MB/s eta 0:00:01\n",
      "\u001b[?25hCollecting numba==0.51.2\n",
      "  Downloading numba-0.51.2-cp36-cp36m-manylinux2014_x86_64.whl (3.1 MB)\n",
      "\u001b[K     |████████████████████████████████| 3.1 MB 8.4 MB/s eta 0:00:01\n",
      "\u001b[?25hCollecting plotly==4.12.0\n",
      "  Downloading plotly-4.12.0-py2.py3-none-any.whl (13.1 MB)\n",
      "\u001b[K     |████████████████████████████████| 13.1 MB 11.4 MB/s eta 0:00:01\n",
      "\u001b[?25hCollecting dash==1.17.0\n",
      "  Downloading dash-1.17.0.tar.gz (75 kB)\n",
      "\u001b[K     |████████████████████████████████| 75 kB 10.3 MB/s ta 0:00:011\n",
      "\u001b[?25hRequirement already satisfied: pandas>1.0.2 in /home/mvisi/.local/lib/python3.6/site-packages (from shapash) (1.1.5)\n",
      "Requirement already satisfied: nbformat>4.2.0 in /usr/local/lib/python3.6/dist-packages (from shapash) (4.4.0)\n",
      "Requirement already satisfied: scipy in /home/mvisi/.local/lib/python3.6/site-packages (from shap==0.37.0->shapash) (1.4.1)\n",
      "Requirement already satisfied: scikit-learn in /home/mvisi/.local/lib/python3.6/site-packages (from shap==0.37.0->shapash) (0.23.2)\n",
      "Requirement already satisfied: tqdm>4.25.0 in /home/mvisi/.local/lib/python3.6/site-packages (from shap==0.37.0->shapash) (4.58.0)\n",
      "Collecting slicer==0.0.3\n",
      "  Downloading slicer-0.0.3-py3-none-any.whl (11 kB)\n",
      "Collecting llvmlite<0.35,>=0.34.0.dev0\n",
      "  Downloading llvmlite-0.34.0-cp36-cp36m-manylinux2010_x86_64.whl (24.6 MB)\n",
      "\u001b[K     |████████████████████████████████| 24.6 MB 11.4 MB/s eta 0:00:01\n",
      "\u001b[?25hRequirement already satisfied: setuptools in /home/mvisi/.local/lib/python3.6/site-packages (from numba==0.51.2->shapash) (54.1.2)\n",
      "Requirement already satisfied: retrying>=1.3.3 in /usr/local/lib/python3.6/dist-packages (from plotly==4.12.0->shapash) (1.3.3)\n",
      "Requirement already satisfied: six in /home/mvisi/.local/lib/python3.6/site-packages (from plotly==4.12.0->shapash) (1.15.0)\n",
      "Requirement already satisfied: Flask>=1.0.2 in /usr/local/lib/python3.6/dist-packages (from dash==1.17.0->shapash) (1.0.3)\n",
      "Requirement already satisfied: flask-compress in /usr/local/lib/python3.6/dist-packages (from dash==1.17.0->shapash) (1.4.0)\n",
      "Requirement already satisfied: future in /usr/local/lib/python3.6/dist-packages (from dash==1.17.0->shapash) (0.18.2)\n",
      "Requirement already satisfied: pytz>=2017.2 in /usr/local/lib/python3.6/dist-packages (from pandas>1.0.2->shapash) (2019.1)\n",
      "Requirement already satisfied: python-dateutil>=2.7.3 in /home/mvisi/.local/lib/python3.6/site-packages (from pandas>1.0.2->shapash) (2.8.1)\n",
      "Requirement already satisfied: ipython-genutils in /home/mvisi/.local/lib/python3.6/site-packages (from nbformat>4.2.0->shapash) (0.2.0)\n",
      "Requirement already satisfied: jupyter-core in /home/mvisi/.local/lib/python3.6/site-packages (from nbformat>4.2.0->shapash) (4.7.1)\n",
      "Requirement already satisfied: jsonschema!=2.5.0,>=2.4 in /usr/local/lib/python3.6/dist-packages (from nbformat>4.2.0->shapash) (3.0.1)\n",
      "Requirement already satisfied: traitlets>=4.1 in /home/mvisi/.local/lib/python3.6/site-packages (from nbformat>4.2.0->shapash) (4.3.3)\n",
      "Requirement already satisfied: joblib>=0.11 in /home/mvisi/.local/lib/python3.6/site-packages (from scikit-learn->shap==0.37.0->shapash) (0.14.1)\n",
      "Requirement already satisfied: threadpoolctl>=2.0.0 in /home/mvisi/.local/lib/python3.6/site-packages (from scikit-learn->shap==0.37.0->shapash) (2.1.0)\n",
      "Requirement already satisfied: Werkzeug>=0.14 in /usr/local/lib/python3.6/dist-packages (from Flask>=1.0.2->dash==1.17.0->shapash) (0.16.0)\n",
      "Requirement already satisfied: click>=5.1 in /usr/local/lib/python3.6/dist-packages (from Flask>=1.0.2->dash==1.17.0->shapash) (7.0)\n",
      "Requirement already satisfied: Jinja2>=2.10 in /home/mvisi/.local/lib/python3.6/site-packages (from Flask>=1.0.2->dash==1.17.0->shapash) (2.11.3)\n",
      "Requirement already satisfied: itsdangerous>=0.24 in /usr/local/lib/python3.6/dist-packages (from Flask>=1.0.2->dash==1.17.0->shapash) (1.1.0)\n",
      "Requirement already satisfied: attrs>=17.4.0 in /home/mvisi/.local/lib/python3.6/site-packages (from jsonschema!=2.5.0,>=2.4->nbformat>4.2.0->shapash) (20.3.0)\n",
      "Requirement already satisfied: pyrsistent>=0.14.0 in /usr/local/lib/python3.6/dist-packages (from jsonschema!=2.5.0,>=2.4->nbformat>4.2.0->shapash) (0.15.2)\n",
      "Requirement already satisfied: decorator in /home/mvisi/.local/lib/python3.6/site-packages (from traitlets>=4.1->nbformat>4.2.0->shapash) (4.4.2)\n",
      "Requirement already satisfied: MarkupSafe>=0.23 in /usr/local/lib/python3.6/dist-packages (from Jinja2>=2.10->Flask>=1.0.2->dash==1.17.0->shapash) (1.1.1)\n",
      "Building wheels for collected packages: dash-bootstrap-components, shap, dash-table, dash-renderer, dash-core-components, dash-daq, dash-html-components, dash\n",
      "  Building wheel for dash-bootstrap-components (PEP 517) ... \u001b[?25ldone\n",
      "\u001b[?25h  Created wheel for dash-bootstrap-components: filename=dash_bootstrap_components-0.9.1-py3-none-any.whl size=170749 sha256=936a124b3ed8de0e9eb76095ca066ee31b2484f47e39352a4b617bbcd8ded7e8\n",
      "  Stored in directory: /home/mvisi/.cache/pip/wheels/20/1b/33/d2e69fdaa86adff4106d1456ab3e226bf6775e9b2d3465b558\n",
      "  Building wheel for shap (setup.py) ... \u001b[?25ldone\n",
      "\u001b[?25h  Created wheel for shap: filename=shap-0.37.0-cp36-cp36m-linux_x86_64.whl size=463922 sha256=f91bd2ebaf4f86708642428dc2813c1219d12f57535d5f7756f2c4df1d1fc10c\n",
      "  Stored in directory: /home/mvisi/.cache/pip/wheels/9f/f0/81/55d1fce3ccceacb520abc45e88f3d2de2959cd079f712b5f85\n",
      "  Building wheel for dash-table (setup.py) ... \u001b[?25ldone\n",
      "\u001b[?25h  Created wheel for dash-table: filename=dash_table-4.11.0-py3-none-any.whl size=1839765 sha256=1600f967bb3fe93228132b3f20dc7183064317d914a0dc500e8524294baf48f6\n",
      "  Stored in directory: /home/mvisi/.cache/pip/wheels/47/3d/7d/9837ae20b1ee21d9aea6325b5b40454b321df1ead345ba0a5f\n",
      "  Building wheel for dash-renderer (setup.py) ... \u001b[?25ldone\n",
      "\u001b[?25h  Created wheel for dash-renderer: filename=dash_renderer-1.8.3-py3-none-any.whl size=1013945 sha256=7615e53ec96578239657167afaf7964e9ad099bbfef913935adc8db5770a1e87\n",
      "  Stored in directory: /home/mvisi/.cache/pip/wheels/57/66/3b/747f0573ee796f40296f805116dcccb01c3d8e8c2c4cd50c8e\n",
      "  Building wheel for dash-core-components (setup.py) ... \u001b[?25ldone\n",
      "\u001b[?25h  Created wheel for dash-core-components: filename=dash_core_components-1.13.0-py3-none-any.whl size=3513141 sha256=127ba4af2fcf4403d65b538c79c7ac21891e2dce3b67f90d2bcdd5c6cab9c210\n",
      "  Stored in directory: /home/mvisi/.cache/pip/wheels/2b/97/20/c04f6d90637b8ac052a8548578edb0ca0c0890672907b8854c\n",
      "  Building wheel for dash-daq (setup.py) ... \u001b[?25ldone\n",
      "\u001b[?25h  Created wheel for dash-daq: filename=dash_daq-0.5.0-py3-none-any.whl size=669703 sha256=15275ab23ac953296c9120c23300fc3e4c2b274791c21dbab58ffd0718207501\n",
      "  Stored in directory: /home/mvisi/.cache/pip/wheels/0d/86/e6/1301ad34bbc93de0e1e582fb233bb16c2603601a9d1d4aa720\n"
     ]
    },
    {
     "name": "stdout",
     "output_type": "stream",
     "text": [
      "  Building wheel for dash-html-components (setup.py) ... \u001b[?25ldone\n",
      "\u001b[?25h  Created wheel for dash-html-components: filename=dash_html_components-1.1.1-py3-none-any.whl size=427893 sha256=9a60b2547d9ba4358f89bf2da6a15829d5186d4ea07ada8610fa95d980bc9537\n",
      "  Stored in directory: /home/mvisi/.cache/pip/wheels/ff/d9/16/e059d112e0d37928fda032fd33eb0fb8507a584bf903c8ee20\n",
      "  Building wheel for dash (setup.py) ... \u001b[?25ldone\n",
      "\u001b[?25h  Created wheel for dash: filename=dash-1.17.0-py3-none-any.whl size=83727 sha256=75d1299d0a899138b83258fddbb841702c2d3397045e4ad0f0aff049003ce9ed\n",
      "  Stored in directory: /home/mvisi/.cache/pip/wheels/23/b4/5a/19beaeac2967da33d9e4270af894b7852f932f6136dd1c2beb\n",
      "Successfully built dash-bootstrap-components shap dash-table dash-renderer dash-core-components dash-daq dash-html-components dash\n",
      "Installing collected packages: plotly, dash-renderer, dash-core-components, dash-html-components, dash-table, dash, dash-bootstrap-components, slicer, llvmlite, numba, shap, dash-daq, shapash\n",
      "  Attempting uninstall: plotly\n",
      "    Found existing installation: plotly 4.14.3\n",
      "    Uninstalling plotly-4.14.3:\n",
      "      Successfully uninstalled plotly-4.14.3\n",
      "\u001b[33m  WARNING: The scripts dash-generate-components and renderer are installed in '/home/mvisi/.local/bin' which is not on PATH.\n",
      "  Consider adding this directory to PATH or, if you prefer to suppress this warning, use --no-warn-script-location.\u001b[0m\n",
      "  Attempting uninstall: llvmlite\n",
      "    Found existing installation: llvmlite 0.35.0\n",
      "    Uninstalling llvmlite-0.35.0:\n",
      "      Successfully uninstalled llvmlite-0.35.0\n",
      "  Attempting uninstall: numba\n",
      "    Found existing installation: numba 0.52.0\n",
      "    Uninstalling numba-0.52.0:\n",
      "      Successfully uninstalled numba-0.52.0\n",
      "Successfully installed dash-1.17.0 dash-bootstrap-components-0.9.1 dash-core-components-1.13.0 dash-daq-0.5.0 dash-html-components-1.1.1 dash-renderer-1.8.3 dash-table-4.11.0 llvmlite-0.34.0 numba-0.51.2 plotly-4.12.0 shap-0.37.0 shapash-1.2.0 slicer-0.0.3\n",
      "\u001b[33mWARNING: You are using pip version 20.0.2; however, version 21.0.1 is available.\n",
      "You should consider upgrading via the '/usr/bin/python3 -m pip install --upgrade pip' command.\u001b[0m\n",
      "Note: you may need to restart the kernel to use updated packages.\n"
     ]
    }
   ],
   "source": [
    "pip install --trusted-host pypi.org --default-timeout=100 --trusted-host files.pythonhosted.org shapash"
   ]
  },
  {
   "cell_type": "code",
   "execution_count": 15,
   "metadata": {},
   "outputs": [
    {
     "name": "stderr",
     "output_type": "stream",
     "text": [
      "/home/mvisi/.local/lib/python3.6/site-packages/numba/core/errors.py:149: UserWarning:\n",
      "\n",
      "Insufficiently recent colorama version found. Numba requires colorama >= 0.3.9\n",
      "\n"
     ]
    }
   ],
   "source": [
    "#import shapash\n",
    "from shapash.explainer.smart_explainer import SmartExplainer"
   ]
  },
  {
   "cell_type": "code",
   "execution_count": 16,
   "metadata": {},
   "outputs": [],
   "source": [
    "label_dict = {0: \"Non-Fraud\", 1: \"Fraud\"}"
   ]
  },
  {
   "cell_type": "code",
   "execution_count": 17,
   "metadata": {},
   "outputs": [],
   "source": [
    "xpl = SmartExplainer(label_dict=label_dict) # optional parameter, specifies label for features name"
   ]
  },
  {
   "cell_type": "code",
   "execution_count": 18,
   "metadata": {},
   "outputs": [],
   "source": [
    "hardpredtst_tuned_threshXGBC_Pandas = pd.DataFrame(hardpredtst_tuned_threshXGBC, columns=['pred'], #index=X_test.reset_index(drop='True'))  \n",
    "                                                   index=X_test.index)\n"
   ]
  },
  {
   "cell_type": "code",
   "execution_count": 19,
   "metadata": {},
   "outputs": [
    {
     "data": {
      "text/html": [
       "<div>\n",
       "<style scoped>\n",
       "    .dataframe tbody tr th:only-of-type {\n",
       "        vertical-align: middle;\n",
       "    }\n",
       "\n",
       "    .dataframe tbody tr th {\n",
       "        vertical-align: top;\n",
       "    }\n",
       "\n",
       "    .dataframe thead th {\n",
       "        text-align: right;\n",
       "    }\n",
       "</style>\n",
       "<table border=\"1\" class=\"dataframe\">\n",
       "  <thead>\n",
       "    <tr style=\"text-align: right;\">\n",
       "      <th></th>\n",
       "      <th>pred</th>\n",
       "    </tr>\n",
       "  </thead>\n",
       "  <tbody>\n",
       "    <tr>\n",
       "      <th>226589</th>\n",
       "      <td>0</td>\n",
       "    </tr>\n",
       "    <tr>\n",
       "      <th>123932</th>\n",
       "      <td>1</td>\n",
       "    </tr>\n",
       "    <tr>\n",
       "      <th>413136</th>\n",
       "      <td>1</td>\n",
       "    </tr>\n",
       "    <tr>\n",
       "      <th>354965</th>\n",
       "      <td>0</td>\n",
       "    </tr>\n",
       "    <tr>\n",
       "      <th>84563</th>\n",
       "      <td>0</td>\n",
       "    </tr>\n",
       "  </tbody>\n",
       "</table>\n",
       "</div>"
      ],
      "text/plain": [
       "        pred\n",
       "226589     0\n",
       "123932     1\n",
       "413136     1\n",
       "354965     0\n",
       "84563      0"
      ]
     },
     "execution_count": 19,
     "metadata": {},
     "output_type": "execute_result"
    }
   ],
   "source": [
    "hardpredtst_tuned_threshXGBC_Pandas.head()"
   ]
  },
  {
   "cell_type": "code",
   "execution_count": 38,
   "metadata": {},
   "outputs": [
    {
     "data": {
      "text/html": [
       "<div>\n",
       "<style scoped>\n",
       "    .dataframe tbody tr th:only-of-type {\n",
       "        vertical-align: middle;\n",
       "    }\n",
       "\n",
       "    .dataframe tbody tr th {\n",
       "        vertical-align: top;\n",
       "    }\n",
       "\n",
       "    .dataframe thead th {\n",
       "        text-align: right;\n",
       "    }\n",
       "</style>\n",
       "<table border=\"1\" class=\"dataframe\">\n",
       "  <thead>\n",
       "    <tr style=\"text-align: right;\">\n",
       "      <th></th>\n",
       "      <th>pred</th>\n",
       "    </tr>\n",
       "  </thead>\n",
       "  <tbody>\n",
       "    <tr>\n",
       "      <th>123932</th>\n",
       "      <td>1</td>\n",
       "    </tr>\n",
       "  </tbody>\n",
       "</table>\n",
       "</div>"
      ],
      "text/plain": [
       "        pred\n",
       "123932     1"
      ]
     },
     "execution_count": 38,
     "metadata": {},
     "output_type": "execute_result"
    }
   ],
   "source": [
    "hardpredtst_tuned_threshXGBC_Pandas.filter(like ='123932', axis =0)"
   ]
  },
  {
   "cell_type": "code",
   "execution_count": 48,
   "metadata": {},
   "outputs": [
    {
     "data": {
      "text/html": [
       "<div>\n",
       "<style scoped>\n",
       "    .dataframe tbody tr th:only-of-type {\n",
       "        vertical-align: middle;\n",
       "    }\n",
       "\n",
       "    .dataframe tbody tr th {\n",
       "        vertical-align: top;\n",
       "    }\n",
       "\n",
       "    .dataframe thead th {\n",
       "        text-align: right;\n",
       "    }\n",
       "</style>\n",
       "<table border=\"1\" class=\"dataframe\">\n",
       "  <thead>\n",
       "    <tr style=\"text-align: right;\">\n",
       "      <th></th>\n",
       "      <th>EIDStatus</th>\n",
       "      <th>SanctionStatus</th>\n",
       "      <th>Ip_Latitude</th>\n",
       "      <th>Ip_Longitude</th>\n",
       "      <th>Ip_Carrier</th>\n",
       "      <th>Ip_Connection_type</th>\n",
       "      <th>Ip_Line_Speed</th>\n",
       "      <th>Ip_Routing_type</th>\n",
       "      <th>IP_Anonymizer_status</th>\n",
       "      <th>Fullcontact_Matched</th>\n",
       "      <th>...</th>\n",
       "      <th>channel</th>\n",
       "      <th>keywords</th>\n",
       "      <th>op_country</th>\n",
       "      <th>referral_text</th>\n",
       "      <th>reg_mode</th>\n",
       "      <th>search_engine</th>\n",
       "      <th>source</th>\n",
       "      <th>sub_source</th>\n",
       "      <th>turnover</th>\n",
       "      <th>txn_value</th>\n",
       "    </tr>\n",
       "  </thead>\n",
       "  <tbody>\n",
       "    <tr>\n",
       "      <th>226589</th>\n",
       "      <td>0</td>\n",
       "      <td>0</td>\n",
       "      <td>51.511111</td>\n",
       "      <td>-0.040000</td>\n",
       "      <td>865</td>\n",
       "      <td>11</td>\n",
       "      <td>1</td>\n",
       "      <td>3</td>\n",
       "      <td>0</td>\n",
       "      <td>1</td>\n",
       "      <td>...</td>\n",
       "      <td>1</td>\n",
       "      <td>0</td>\n",
       "      <td>0</td>\n",
       "      <td>0</td>\n",
       "      <td>0</td>\n",
       "      <td>0</td>\n",
       "      <td>3</td>\n",
       "      <td>276</td>\n",
       "      <td>25176.64</td>\n",
       "      <td>0</td>\n",
       "    </tr>\n",
       "    <tr>\n",
       "      <th>123932</th>\n",
       "      <td>0</td>\n",
       "      <td>0</td>\n",
       "      <td>-43.546470</td>\n",
       "      <td>172.236600</td>\n",
       "      <td>5805</td>\n",
       "      <td>4</td>\n",
       "      <td>3</td>\n",
       "      <td>3</td>\n",
       "      <td>0</td>\n",
       "      <td>0</td>\n",
       "      <td>...</td>\n",
       "      <td>1</td>\n",
       "      <td>0</td>\n",
       "      <td>0</td>\n",
       "      <td>0</td>\n",
       "      <td>0</td>\n",
       "      <td>0</td>\n",
       "      <td>16</td>\n",
       "      <td>276</td>\n",
       "      <td>0.00</td>\n",
       "      <td>15</td>\n",
       "    </tr>\n",
       "    <tr>\n",
       "      <th>413136</th>\n",
       "      <td>0</td>\n",
       "      <td>0</td>\n",
       "      <td>51.533000</td>\n",
       "      <td>-0.267000</td>\n",
       "      <td>6476</td>\n",
       "      <td>8</td>\n",
       "      <td>2</td>\n",
       "      <td>5</td>\n",
       "      <td>0</td>\n",
       "      <td>0</td>\n",
       "      <td>...</td>\n",
       "      <td>1</td>\n",
       "      <td>0</td>\n",
       "      <td>0</td>\n",
       "      <td>6327</td>\n",
       "      <td>3</td>\n",
       "      <td>0</td>\n",
       "      <td>16</td>\n",
       "      <td>283</td>\n",
       "      <td>0.00</td>\n",
       "      <td>110</td>\n",
       "    </tr>\n",
       "    <tr>\n",
       "      <th>354965</th>\n",
       "      <td>0</td>\n",
       "      <td>0</td>\n",
       "      <td>40.896111</td>\n",
       "      <td>29.190277</td>\n",
       "      <td>5792</td>\n",
       "      <td>1</td>\n",
       "      <td>3</td>\n",
       "      <td>3</td>\n",
       "      <td>0</td>\n",
       "      <td>1</td>\n",
       "      <td>...</td>\n",
       "      <td>1</td>\n",
       "      <td>0</td>\n",
       "      <td>0</td>\n",
       "      <td>0</td>\n",
       "      <td>3</td>\n",
       "      <td>0</td>\n",
       "      <td>3</td>\n",
       "      <td>276</td>\n",
       "      <td>0.00</td>\n",
       "      <td>118</td>\n",
       "    </tr>\n",
       "    <tr>\n",
       "      <th>84563</th>\n",
       "      <td>0</td>\n",
       "      <td>0</td>\n",
       "      <td>53.387222</td>\n",
       "      <td>-1.428611</td>\n",
       "      <td>867</td>\n",
       "      <td>4</td>\n",
       "      <td>3</td>\n",
       "      <td>3</td>\n",
       "      <td>0</td>\n",
       "      <td>1</td>\n",
       "      <td>...</td>\n",
       "      <td>1</td>\n",
       "      <td>1777</td>\n",
       "      <td>0</td>\n",
       "      <td>0</td>\n",
       "      <td>0</td>\n",
       "      <td>619</td>\n",
       "      <td>40</td>\n",
       "      <td>195</td>\n",
       "      <td>0.00</td>\n",
       "      <td>24</td>\n",
       "    </tr>\n",
       "  </tbody>\n",
       "</table>\n",
       "<p>5 rows × 43 columns</p>\n",
       "</div>"
      ],
      "text/plain": [
       "        EIDStatus  SanctionStatus  Ip_Latitude  Ip_Longitude  Ip_Carrier  \\\n",
       "226589          0               0    51.511111     -0.040000         865   \n",
       "123932          0               0   -43.546470    172.236600        5805   \n",
       "413136          0               0    51.533000     -0.267000        6476   \n",
       "354965          0               0    40.896111     29.190277        5792   \n",
       "84563           0               0    53.387222     -1.428611         867   \n",
       "\n",
       "        Ip_Connection_type  Ip_Line_Speed  Ip_Routing_type  \\\n",
       "226589                  11              1                3   \n",
       "123932                   4              3                3   \n",
       "413136                   8              2                5   \n",
       "354965                   1              3                3   \n",
       "84563                    4              3                3   \n",
       "\n",
       "        IP_Anonymizer_status  Fullcontact_Matched  ...  channel  keywords  \\\n",
       "226589                     0                    1  ...        1         0   \n",
       "123932                     0                    0  ...        1         0   \n",
       "413136                     0                    0  ...        1         0   \n",
       "354965                     0                    1  ...        1         0   \n",
       "84563                      0                    1  ...        1      1777   \n",
       "\n",
       "        op_country  referral_text  reg_mode  search_engine  source  \\\n",
       "226589           0              0         0              0       3   \n",
       "123932           0              0         0              0      16   \n",
       "413136           0           6327         3              0      16   \n",
       "354965           0              0         3              0       3   \n",
       "84563            0              0         0            619      40   \n",
       "\n",
       "        sub_source  turnover  txn_value  \n",
       "226589         276  25176.64          0  \n",
       "123932         276      0.00         15  \n",
       "413136         283      0.00        110  \n",
       "354965         276      0.00        118  \n",
       "84563          195      0.00         24  \n",
       "\n",
       "[5 rows x 43 columns]"
      ]
     },
     "execution_count": 48,
     "metadata": {},
     "output_type": "execute_result"
    }
   ],
   "source": [
    "X_test.head()"
   ]
  },
  {
   "cell_type": "code",
   "execution_count": 20,
   "metadata": {},
   "outputs": [
    {
     "ename": "ValueError",
     "evalue": "No attribute _classes, classification model not supported",
     "output_type": "error",
     "traceback": [
      "\u001b[0;31m---------------------------------------------------------------------------\u001b[0m",
      "\u001b[0;31mValueError\u001b[0m                                Traceback (most recent call last)",
      "\u001b[0;32m<ipython-input-20-c9a56b150aff>\u001b[0m in \u001b[0;36m<module>\u001b[0;34m\u001b[0m\n\u001b[1;32m      2\u001b[0m     \u001b[0mx\u001b[0m\u001b[0;34m=\u001b[0m\u001b[0mX_test\u001b[0m\u001b[0;34m,\u001b[0m\u001b[0;34m\u001b[0m\u001b[0;34m\u001b[0m\u001b[0m\n\u001b[1;32m      3\u001b[0m     \u001b[0mmodel\u001b[0m\u001b[0;34m=\u001b[0m\u001b[0mXGBClassifier\u001b[0m\u001b[0;34m,\u001b[0m\u001b[0;34m\u001b[0m\u001b[0;34m\u001b[0m\u001b[0m\n\u001b[0;32m----> 4\u001b[0;31m     \u001b[0my_pred\u001b[0m\u001b[0;34m=\u001b[0m\u001b[0mhardpredtst_tuned_threshXGBC_Pandas\u001b[0m\u001b[0;34m\u001b[0m\u001b[0;34m\u001b[0m\u001b[0m\n\u001b[0m\u001b[1;32m      5\u001b[0m )\n",
      "\u001b[0;32m~/.local/lib/python3.6/site-packages/shapash/explainer/smart_explainer.py\u001b[0m in \u001b[0;36mcompile\u001b[0;34m(self, x, model, explainer, contributions, y_pred, preprocessing, postprocessing, title_story)\u001b[0m\n\u001b[1;32m    192\u001b[0m         \u001b[0mself\u001b[0m\u001b[0;34m.\u001b[0m\u001b[0mpreprocessing\u001b[0m \u001b[0;34m=\u001b[0m \u001b[0mpreprocessing\u001b[0m\u001b[0;34m\u001b[0m\u001b[0;34m\u001b[0m\u001b[0m\n\u001b[1;32m    193\u001b[0m         \u001b[0mself\u001b[0m\u001b[0;34m.\u001b[0m\u001b[0mmodel\u001b[0m \u001b[0;34m=\u001b[0m \u001b[0mmodel\u001b[0m\u001b[0;34m\u001b[0m\u001b[0;34m\u001b[0m\u001b[0m\n\u001b[0;32m--> 194\u001b[0;31m         \u001b[0mself\u001b[0m\u001b[0;34m.\u001b[0m\u001b[0m_case\u001b[0m\u001b[0;34m,\u001b[0m \u001b[0mself\u001b[0m\u001b[0;34m.\u001b[0m\u001b[0m_classes\u001b[0m \u001b[0;34m=\u001b[0m \u001b[0mself\u001b[0m\u001b[0;34m.\u001b[0m\u001b[0mcheck_model\u001b[0m\u001b[0;34m(\u001b[0m\u001b[0;34m)\u001b[0m\u001b[0;34m\u001b[0m\u001b[0;34m\u001b[0m\u001b[0m\n\u001b[0m\u001b[1;32m    195\u001b[0m         \u001b[0mself\u001b[0m\u001b[0;34m.\u001b[0m\u001b[0mcheck_label_dict\u001b[0m\u001b[0;34m(\u001b[0m\u001b[0;34m)\u001b[0m\u001b[0;34m\u001b[0m\u001b[0;34m\u001b[0m\u001b[0m\n\u001b[1;32m    196\u001b[0m         \u001b[0;32mif\u001b[0m \u001b[0mself\u001b[0m\u001b[0;34m.\u001b[0m\u001b[0mlabel_dict\u001b[0m\u001b[0;34m:\u001b[0m\u001b[0;34m\u001b[0m\u001b[0;34m\u001b[0m\u001b[0m\n",
      "\u001b[0;32m~/.local/lib/python3.6/site-packages/shapash/explainer/smart_explainer.py\u001b[0m in \u001b[0;36mcheck_model\u001b[0;34m(self)\u001b[0m\n\u001b[1;32m    497\u001b[0m             \u001b[0;34m'regression'\u001b[0m \u001b[0;32mor\u001b[0m \u001b[0;34m'classification'\u001b[0m \u001b[0maccording\u001b[0m \u001b[0mto\u001b[0m \u001b[0mthe\u001b[0m \u001b[0mattributes\u001b[0m \u001b[0mof\u001b[0m \u001b[0mthe\u001b[0m \u001b[0mmodel\u001b[0m\u001b[0;34m\u001b[0m\u001b[0;34m\u001b[0m\u001b[0m\n\u001b[1;32m    498\u001b[0m         \"\"\"\n\u001b[0;32m--> 499\u001b[0;31m         \u001b[0m_case\u001b[0m\u001b[0;34m,\u001b[0m \u001b[0m_classes\u001b[0m \u001b[0;34m=\u001b[0m \u001b[0mcheck_model\u001b[0m\u001b[0;34m(\u001b[0m\u001b[0mself\u001b[0m\u001b[0;34m.\u001b[0m\u001b[0mmodel\u001b[0m\u001b[0;34m)\u001b[0m\u001b[0;34m\u001b[0m\u001b[0;34m\u001b[0m\u001b[0m\n\u001b[0m\u001b[1;32m    500\u001b[0m         \u001b[0;32mreturn\u001b[0m \u001b[0m_case\u001b[0m\u001b[0;34m,\u001b[0m \u001b[0m_classes\u001b[0m\u001b[0;34m\u001b[0m\u001b[0;34m\u001b[0m\u001b[0m\n\u001b[1;32m    501\u001b[0m \u001b[0;34m\u001b[0m\u001b[0m\n",
      "\u001b[0;32m~/.local/lib/python3.6/site-packages/shapash/utils/check.py\u001b[0m in \u001b[0;36mcheck_model\u001b[0;34m(model)\u001b[0m\n\u001b[1;32m     53\u001b[0m             \u001b[0;32mif\u001b[0m \u001b[0mhasattr\u001b[0m\u001b[0;34m(\u001b[0m\u001b[0mmodel\u001b[0m\u001b[0;34m,\u001b[0m \u001b[0;34m'predict_proba'\u001b[0m\u001b[0;34m)\u001b[0m \u001b[0;32mand\u001b[0m \u001b[0m_classes\u001b[0m \u001b[0;32mis\u001b[0m \u001b[0;32mNone\u001b[0m\u001b[0;34m:\u001b[0m\u001b[0;34m\u001b[0m\u001b[0;34m\u001b[0m\u001b[0m\n\u001b[1;32m     54\u001b[0m                 raise ValueError(\n\u001b[0;32m---> 55\u001b[0;31m                     \u001b[0;34m\"No attribute _classes, classification model not supported\"\u001b[0m\u001b[0;34m\u001b[0m\u001b[0;34m\u001b[0m\u001b[0m\n\u001b[0m\u001b[1;32m     56\u001b[0m                 )\n\u001b[1;32m     57\u001b[0m         \u001b[0;32mif\u001b[0m \u001b[0m_classes\u001b[0m \u001b[0;32mnot\u001b[0m \u001b[0;32min\u001b[0m \u001b[0;34m(\u001b[0m\u001b[0;32mNone\u001b[0m\u001b[0;34m,\u001b[0m \u001b[0;34m[\u001b[0m\u001b[0;34m]\u001b[0m\u001b[0;34m)\u001b[0m\u001b[0;34m:\u001b[0m\u001b[0;34m\u001b[0m\u001b[0;34m\u001b[0m\u001b[0m\n",
      "\u001b[0;31mValueError\u001b[0m: No attribute _classes, classification model not supported"
     ]
    }
   ],
   "source": [
    "xpl.compile(\n",
    "    x=X_test,\n",
    "    model=XGBClassifier,\n",
    "    y_pred=hardpredtst_tuned_threshXGBC_Pandas\n",
    ")"
   ]
  },
  {
   "cell_type": "code",
   "execution_count": 41,
   "metadata": {},
   "outputs": [
    {
     "ename": "AttributeError",
     "evalue": "'SmartExplainer' object has no attribute 'y_pred'",
     "output_type": "error",
     "traceback": [
      "\u001b[0;31m---------------------------------------------------------------------------\u001b[0m",
      "\u001b[0;31mAttributeError\u001b[0m                            Traceback (most recent call last)",
      "\u001b[0;32m<ipython-input-41-f621868d5491>\u001b[0m in \u001b[0;36m<module>\u001b[0;34m\u001b[0m\n\u001b[0;32m----> 1\u001b[0;31m \u001b[0mxpl\u001b[0m\u001b[0;34m.\u001b[0m\u001b[0mto_pandas\u001b[0m\u001b[0;34m(\u001b[0m\u001b[0mmax_contrib\u001b[0m\u001b[0;34m=\u001b[0m\u001b[0;36m3\u001b[0m\u001b[0;34m)\u001b[0m\u001b[0;34m.\u001b[0m\u001b[0mhead\u001b[0m\u001b[0;34m(\u001b[0m\u001b[0;34m)\u001b[0m\u001b[0;34m\u001b[0m\u001b[0;34m\u001b[0m\u001b[0m\n\u001b[0m",
      "\u001b[0;32m~/.local/lib/python3.6/site-packages/shapash/explainer/smart_explainer.py\u001b[0m in \u001b[0;36mto_pandas\u001b[0;34m(self, features_to_hide, threshold, positive, max_contrib, proba)\u001b[0m\n\u001b[1;32m    805\u001b[0m \u001b[0;34m\u001b[0m\u001b[0m\n\u001b[1;32m    806\u001b[0m         \u001b[0;31m# Classification: y_pred is needed\u001b[0m\u001b[0;34m\u001b[0m\u001b[0;34m\u001b[0m\u001b[0;34m\u001b[0m\u001b[0m\n\u001b[0;32m--> 807\u001b[0;31m         \u001b[0;32mif\u001b[0m \u001b[0mself\u001b[0m\u001b[0;34m.\u001b[0m\u001b[0my_pred\u001b[0m \u001b[0;32mis\u001b[0m \u001b[0;32mNone\u001b[0m\u001b[0;34m:\u001b[0m\u001b[0;34m\u001b[0m\u001b[0;34m\u001b[0m\u001b[0m\n\u001b[0m\u001b[1;32m    808\u001b[0m             raise ValueError(\n\u001b[1;32m    809\u001b[0m                 \u001b[0;34m\"You have to specify y_pred argument. Please use add() or compile() method\"\u001b[0m\u001b[0;34m\u001b[0m\u001b[0;34m\u001b[0m\u001b[0m\n",
      "\u001b[0;31mAttributeError\u001b[0m: 'SmartExplainer' object has no attribute 'y_pred'"
     ]
    }
   ],
   "source": [
    "xpl.to_pandas(max_contrib=3).head()"
   ]
  },
  {
   "cell_type": "code",
   "execution_count": 162,
   "metadata": {},
   "outputs": [
    {
     "name": "stdout",
     "output_type": "stream",
     "text": [
      "Dash is running on http://0.0.0.0:8050/\n",
      "\n"
     ]
    },
    {
     "name": "stderr",
     "output_type": "stream",
     "text": [
      "Using short name for 'orient' is deprecated. Only the options: ('dict', list, 'series', 'split', 'records', 'index') will be used in a future version. Use one of the above to silence this warning.\n",
      "INFO:root:Your Shapash application run on http://CD-ML-GPU:8050/\n"
     ]
    },
    {
     "name": "stdout",
     "output_type": "stream",
     "text": [
      "Dash is running on http://0.0.0.0:8050/\n",
      "\n"
     ]
    },
    {
     "name": "stderr",
     "output_type": "stream",
     "text": [
      "INFO:root:Use the method .kill() to down your app.\n"
     ]
    },
    {
     "name": "stdout",
     "output_type": "stream",
     "text": [
      "Dash is running on http://0.0.0.0:8050/\n",
      "\n",
      "Dash is running on http://0.0.0.0:8050/\n",
      "\n",
      "Dash is running on http://0.0.0.0:8050/\n",
      "\n",
      "Dash is running on http://0.0.0.0:8050/\n",
      "\n",
      "Dash is running on http://0.0.0.0:8050/\n",
      "\n",
      "Dash is running on http://0.0.0.0:8050/\n",
      "\n",
      "Dash is running on http://0.0.0.0:8050/\n",
      "\n",
      "Dash is running on http://0.0.0.0:8050/\n",
      "\n",
      "Dash is running on http://0.0.0.0:8050/\n",
      "\n",
      "Dash is running on http://0.0.0.0:8050/\n",
      "\n",
      "Dash is running on http://0.0.0.0:8050/\n",
      "\n",
      "Dash is running on http://0.0.0.0:8050/\n",
      "\n"
     ]
    },
    {
     "name": "stderr",
     "output_type": "stream",
     "text": [
      "INFO:shapash.webapp.smart_app:Dash is running on http://0.0.0.0:8050/\n",
      "\n"
     ]
    },
    {
     "name": "stdout",
     "output_type": "stream",
     "text": [
      " * Serving Flask app \"shapash.webapp.smart_app\" (lazy loading)\n",
      " * Environment: UAT\n",
      " * Debug mode: off\n"
     ]
    },
    {
     "name": "stderr",
     "output_type": "stream",
     "text": [
      "Exception in thread Thread-791:\n",
      "Traceback (most recent call last):\n",
      "  File \"/usr/lib/python3.6/threading.py\", line 916, in _bootstrap_inner\n",
      "    self.run()\n",
      "  File \"/home/mvisi/.local/lib/python3.6/site-packages/shapash/utils/threading.py\", line 29, in __run\n",
      "    self.__run_backup()\n",
      "  File \"/usr/lib/python3.6/threading.py\", line 864, in run\n",
      "    self._target(*self._args, **self._kwargs)\n",
      "  File \"/home/mvisi/.local/lib/python3.6/site-packages/shapash/explainer/smart_explainer.py\", line 916, in <lambda>\n",
      "    target=lambda: self.smartapp.app.run_server(debug=False, host=host, port=port))\n",
      "  File \"/home/mvisi/.local/lib/python3.6/site-packages/dash/dash.py\", line 1716, in run_server\n",
      "    self.server.run(host=host, port=port, debug=debug, **flask_run_options)\n",
      "  File \"/usr/local/lib/python3.6/dist-packages/flask/app.py\", line 944, in run\n",
      "    run_simple(host, port, self, **options)\n",
      "  File \"/usr/local/lib/python3.6/dist-packages/werkzeug/serving.py\", line 1010, in run_simple\n",
      "    inner()\n",
      "  File \"/usr/local/lib/python3.6/dist-packages/werkzeug/serving.py\", line 963, in inner\n",
      "    fd=fd,\n",
      "  File \"/usr/local/lib/python3.6/dist-packages/werkzeug/serving.py\", line 806, in make_server\n",
      "    host, port, app, request_handler, passthrough_errors, ssl_context, fd=fd\n",
      "  File \"/usr/local/lib/python3.6/dist-packages/werkzeug/serving.py\", line 699, in __init__\n",
      "    HTTPServer.__init__(self, server_address, handler)\n",
      "  File \"/usr/lib/python3.6/socketserver.py\", line 456, in __init__\n",
      "    self.server_bind()\n",
      "  File \"/usr/lib/python3.6/http/server.py\", line 136, in server_bind\n",
      "    socketserver.TCPServer.server_bind(self)\n",
      "  File \"/usr/lib/python3.6/socketserver.py\", line 470, in server_bind\n",
      "    self.socket.bind(self.server_address)\n",
      "OSError: [Errno 98] Address already in use\n",
      "\n",
      "INFO:werkzeug:172.26.0.4 - - [08/Apr/2021 17:59:49] \"\u001b[37mGET / HTTP/1.1\u001b[0m\" 200 -\n",
      "INFO:werkzeug:172.26.0.4 - - [08/Apr/2021 17:59:49] \"\u001b[37mGET /_dash-dependencies HTTP/1.1\u001b[0m\" 200 -\n",
      "INFO:werkzeug:172.26.0.4 - - [08/Apr/2021 17:59:49] \"\u001b[37mGET /_dash-layout HTTP/1.1\u001b[0m\" 200 -\n",
      "INFO:werkzeug:172.26.0.4 - - [08/Apr/2021 17:59:50] \"\u001b[37mPOST /_dash-update-component HTTP/1.1\u001b[0m\" 200 -\n",
      "INFO:werkzeug:172.26.0.4 - - [08/Apr/2021 17:59:50] \"\u001b[37mPOST /_dash-update-component HTTP/1.1\u001b[0m\" 200 -\n",
      "INFO:werkzeug:172.26.0.4 - - [08/Apr/2021 17:59:50] \"\u001b[37mPOST /_dash-update-component HTTP/1.1\u001b[0m\" 200 -\n",
      "INFO:werkzeug:172.26.0.4 - - [08/Apr/2021 17:59:50] \"\u001b[37mPOST /_dash-update-component HTTP/1.1\u001b[0m\" 200 -\n",
      "INFO:werkzeug:172.26.0.4 - - [08/Apr/2021 17:59:50] \"\u001b[37mPOST /_dash-update-component HTTP/1.1\u001b[0m\" 200 -\n",
      "INFO:werkzeug:172.26.0.4 - - [08/Apr/2021 17:59:50] \"\u001b[37mPOST /_dash-update-component HTTP/1.1\u001b[0m\" 200 -\n",
      "INFO:werkzeug:172.26.0.4 - - [08/Apr/2021 17:59:50] \"\u001b[37mPOST /_dash-update-component HTTP/1.1\u001b[0m\" 200 -\n",
      "INFO:werkzeug:172.26.0.4 - - [08/Apr/2021 17:59:50] \"\u001b[37mPOST /_dash-update-component HTTP/1.1\u001b[0m\" 200 -\n",
      "INFO:werkzeug:172.26.0.4 - - [08/Apr/2021 17:59:50] \"\u001b[37mPOST /_dash-update-component HTTP/1.1\u001b[0m\" 200 -\n",
      "INFO:werkzeug:172.26.0.4 - - [08/Apr/2021 17:59:50] \"\u001b[37mPOST /_dash-update-component HTTP/1.1\u001b[0m\" 200 -\n",
      "INFO:werkzeug:172.26.0.4 - - [08/Apr/2021 17:59:50] \"\u001b[37mPOST /_dash-update-component HTTP/1.1\u001b[0m\" 200 -\n",
      "INFO:werkzeug:172.26.0.4 - - [08/Apr/2021 17:59:51] \"\u001b[37mPOST /_dash-update-component HTTP/1.1\u001b[0m\" 200 -\n",
      "INFO:werkzeug:172.26.0.4 - - [08/Apr/2021 17:59:52] \"\u001b[37mPOST /_dash-update-component HTTP/1.1\u001b[0m\" 200 -\n",
      "INFO:werkzeug:172.26.0.4 - - [08/Apr/2021 17:59:53] \"\u001b[37mPOST /_dash-update-component HTTP/1.1\u001b[0m\" 200 -\n",
      "INFO:werkzeug:172.26.0.4 - - [08/Apr/2021 17:59:53] \"\u001b[37mPOST /_dash-update-component HTTP/1.1\u001b[0m\" 200 -\n",
      "INFO:werkzeug:172.26.0.4 - - [08/Apr/2021 17:59:53] \"\u001b[37mPOST /_dash-update-component HTTP/1.1\u001b[0m\" 200 -\n",
      "INFO:werkzeug:172.26.0.4 - - [08/Apr/2021 17:59:54] \"\u001b[37mPOST /_dash-update-component HTTP/1.1\u001b[0m\" 200 -\n",
      "INFO:werkzeug:172.26.0.4 - - [08/Apr/2021 17:59:55] \"\u001b[37mPOST /_dash-update-component HTTP/1.1\u001b[0m\" 200 -\n",
      "INFO:werkzeug:172.26.0.4 - - [08/Apr/2021 17:59:56] \"\u001b[37mPOST /_dash-update-component HTTP/1.1\u001b[0m\" 200 -\n",
      "INFO:werkzeug:172.26.0.4 - - [08/Apr/2021 18:00:15] \"\u001b[37mPOST /_dash-update-component HTTP/1.1\u001b[0m\" 200 -\n",
      "INFO:werkzeug:172.26.0.4 - - [08/Apr/2021 18:00:18] \"\u001b[37mPOST /_dash-update-component HTTP/1.1\u001b[0m\" 200 -\n",
      "INFO:werkzeug:172.26.0.4 - - [08/Apr/2021 18:00:21] \"\u001b[37mPOST /_dash-update-component HTTP/1.1\u001b[0m\" 200 -\n",
      "INFO:werkzeug:172.26.0.4 - - [08/Apr/2021 18:00:31] \"\u001b[37mPOST /_dash-update-component HTTP/1.1\u001b[0m\" 200 -\n",
      "INFO:werkzeug:172.26.0.4 - - [08/Apr/2021 18:00:31] \"\u001b[37mPOST /_dash-update-component HTTP/1.1\u001b[0m\" 200 -\n",
      "INFO:werkzeug:172.26.0.4 - - [08/Apr/2021 18:00:32] \"\u001b[37mPOST /_dash-update-component HTTP/1.1\u001b[0m\" 200 -\n",
      "INFO:werkzeug:172.26.0.4 - - [08/Apr/2021 18:00:38] \"\u001b[37mPOST /_dash-update-component HTTP/1.1\u001b[0m\" 200 -\n",
      "INFO:werkzeug:172.26.0.4 - - [08/Apr/2021 18:00:38] \"\u001b[37mPOST /_dash-update-component HTTP/1.1\u001b[0m\" 200 -\n",
      "INFO:werkzeug:172.26.0.4 - - [08/Apr/2021 18:00:39] \"\u001b[37mPOST /_dash-update-component HTTP/1.1\u001b[0m\" 200 -\n",
      "INFO:werkzeug:172.26.0.4 - - [08/Apr/2021 18:00:39] \"\u001b[37mPOST /_dash-update-component HTTP/1.1\u001b[0m\" 200 -\n"
     ]
    }
   ],
   "source": [
    "app = xpl.run_app(title_story='Fraud Prediction')\n"
   ]
  },
  {
   "cell_type": "code",
   "execution_count": 148,
   "metadata": {},
   "outputs": [],
   "source": [
    "app.kill()"
   ]
  },
  {
   "cell_type": "code",
   "execution_count": 146,
   "metadata": {},
   "outputs": [
    {
     "data": {
      "application/vnd.plotly.v1+json": {
       "config": {
        "plotlyServerURL": "https://plot.ly"
       },
       "data": [
        {
         "hoverinfo": "text",
         "hovertext": [
          "Id: <b>226589</b><br /><b>Ip_Line_Speed</b> <br />Contribution: 0.0153 <br />Value: 1.0",
          "Id: <b>226589</b><br /><b>keywords</b> <br />Contribution: 0.0599 <br />Value: 0.0",
          "Id: <b>226589</b><br /><b>screen_resolution</b> <br />Contribution: 0.1106 <br />Value: 0.0",
          "Id: <b>226589</b><br /><b>gender_Fullcontact</b> <br />Contribution: 0.0495 <br />Value: 3.0",
          "Id: <b>226589</b><br /><b>brwsr_version</b> <br />Contribution: -0.0363 <br />Value: 0.0",
          "Id: <b>226589</b><br /><b>ageRange_Fullcontact</b> <br />Contribution: -0.0549 <br />Value: 79.0",
          "Id: <b>226589</b><br /><b>title</b> <br />Contribution: -0.0225 <br />Value: 32.0",
          "Id: <b>226589</b><br /><b>sub_source</b> <br />Contribution: -0.2795 <br />Value: 276.0",
          "Id: <b>226589</b><br /><b>Fullcontact_Matched</b> <br />Contribution: -0.1399 <br />Value: 1.0",
          "Id: <b>226589</b><br /><b>Ip_Longitude</b> <br />Contribution: -0.2402 <br />Value: -0.03999999",
          "Id: <b>226589</b><br /><b>Ip_Connection_type</b> <br />Contribution: -0.0911 <br />Value: 11.0",
          "Id: <b>226589</b><br /><b>Social_Profiles_Count</b> <br />Contribution: 0.2283 <br />Value: 0.0",
          "Id: <b>226589</b><br /><b>affiliate_name</b> <br />Contribution: -0.2387 <br />Value: 2774.0",
          "Id: <b>226589</b><br /><b>turnover</b> <br />Contribution: 0.1656 <br />Value: 25176.64",
          "Id: <b>226589</b><br /><b>source</b> <br />Contribution: -0.3458 <br />Value: 3.0",
          "Id: <b>226589</b><br /><b>country_of_residence</b> <br />Contribution: -0.2493 <br />Value: 40.0",
          "Id: <b>226589</b><br /><b>Ip_Latitude</b> <br />Contribution: -0.2330 <br />Value: 51.51111111",
          "Id: <b>226589</b><br /><b>Ip_Carrier</b> <br />Contribution: 0.0413 <br />Value: 865.0",
          "Id: <b>226589</b><br /><b>location_Country_Fullcontact</b> <br />Contribution: -1.4515 <br />Value: 4229.0",
          "Id: <b>226589</b><br /><b>aza</b> <br />Contribution: -1.6122 <br />Value: 56183.0"
         ],
         "marker": {
          "color": "rgba(244, 192, 0, 1.0)"
         },
         "mode": "lines+markers",
         "name": "Id: <b>226589</b>",
         "showlegend": true,
         "type": "scatter",
         "x": [
          0.01532890647649765,
          0.059855520725250244,
          0.11055794358253479,
          0.04952097684144974,
          -0.03632941097021103,
          -0.0549149326980114,
          -0.02251569926738739,
          -0.2795327305793762,
          -0.13987213373184204,
          -0.24018584191799164,
          -0.09108997136354446,
          0.22830145061016083,
          -0.23869042098522186,
          0.1656244993209839,
          -0.34583011269569397,
          -0.24927081167697906,
          -0.23303289711475372,
          0.04125659167766571,
          -1.4514598846435547,
          -1.6122477054595947
         ],
         "y": [
          "<b>Ip_Line_Speed</b>",
          "<b>keywords</b>",
          "<b>screen_resolution</b>",
          "<b>gender_Fullcontact</b>",
          "<b>brwsr_version</b>",
          "<b>ageRange_Fullcontact</b>",
          "<b>title</b>",
          "<b>sub_source</b>",
          "<b>Fullcontact_Matched</b>",
          "<b>Ip_Longitude</b>",
          "<b>Ip_Connection_type</b>",
          "<b>Social_Profiles_Count</b>",
          "<b>affiliate_name</b>",
          "<b>turnover</b>",
          "<b>source</b>",
          "<b>country_of_residence</b>",
          "<b>Ip_Latitude</b>",
          "<b>Ip_Carrier</b>",
          "<b>location_Country_Fullcontact</b>",
          "<b>aza</b>"
         ]
        },
        {
         "hoverinfo": "text",
         "hovertext": [
          "Id: <b>123932</b><br /><b>Ip_Line_Speed</b> <br />Contribution: -0.0276 <br />Value: 3.0",
          "Id: <b>123932</b><br /><b>keywords</b> <br />Contribution: 0.0036 <br />Value: 0.0",
          "Id: <b>123932</b><br /><b>screen_resolution</b> <br />Contribution: 0.0431 <br />Value: 0.0",
          "Id: <b>123932</b><br /><b>gender_Fullcontact</b> <br />Contribution: -0.0219 <br />Value: 0.0",
          "Id: <b>123932</b><br /><b>brwsr_version</b> <br />Contribution: -0.1181 <br />Value: 0.0",
          "Id: <b>123932</b><br /><b>ageRange_Fullcontact</b> <br />Contribution: 0.0518 <br />Value: 0.0",
          "Id: <b>123932</b><br /><b>title</b> <br />Contribution: 0.0894 <br />Value: 23.0",
          "Id: <b>123932</b><br /><b>sub_source</b> <br />Contribution: -0.1411 <br />Value: 276.0",
          "Id: <b>123932</b><br /><b>Fullcontact_Matched</b> <br />Contribution: 0.0204 <br />Value: 0.0",
          "Id: <b>123932</b><br /><b>Ip_Longitude</b> <br />Contribution: -0.0710 <br />Value: 172.2366",
          "Id: <b>123932</b><br /><b>Ip_Connection_type</b> <br />Contribution: 0.0839 <br />Value: 4.0",
          "Id: <b>123932</b><br /><b>Social_Profiles_Count</b> <br />Contribution: -0.0220 <br />Value: 1.0",
          "Id: <b>123932</b><br /><b>affiliate_name</b> <br />Contribution: 0.0282 <br />Value: 7926.0",
          "Id: <b>123932</b><br /><b>turnover</b> <br />Contribution: -0.1867 <br />Value: 0.0",
          "Id: <b>123932</b><br /><b>source</b> <br />Contribution: 0.0460 <br />Value: 16.0",
          "Id: <b>123932</b><br /><b>country_of_residence</b> <br />Contribution: -0.7230 <br />Value: 177.0",
          "Id: <b>123932</b><br /><b>Ip_Latitude</b> <br />Contribution: 0.2545 <br />Value: -43.54647",
          "Id: <b>123932</b><br /><b>Ip_Carrier</b> <br />Contribution: 0.5802 <br />Value: 5805.0",
          "Id: <b>123932</b><br /><b>location_Country_Fullcontact</b> <br />Contribution: 0.0637 <br />Value: 0.0",
          "Id: <b>123932</b><br /><b>aza</b> <br />Contribution: 0.6424 <br />Value: 37081.0"
         ],
         "marker": {
          "color": "rgba(74, 99, 138, 0.7)"
         },
         "mode": "lines+markers",
         "name": "Id: <b>123932</b>",
         "showlegend": true,
         "type": "scatter",
         "x": [
          -0.02762441150844097,
          0.003590580075979233,
          0.04306802898645401,
          -0.02185019664466381,
          -0.11811746656894684,
          0.05177867412567139,
          0.0893883928656578,
          -0.1410599648952484,
          0.02036949060857296,
          -0.0710306242108345,
          0.08386681973934174,
          -0.02199116162955761,
          0.028225600719451904,
          -0.18667727708816528,
          0.04602084308862686,
          -0.7229878902435303,
          0.254517138004303,
          0.5802320241928101,
          0.06373245269060135,
          0.6424468159675598
         ],
         "y": [
          "<b>Ip_Line_Speed</b>",
          "<b>keywords</b>",
          "<b>screen_resolution</b>",
          "<b>gender_Fullcontact</b>",
          "<b>brwsr_version</b>",
          "<b>ageRange_Fullcontact</b>",
          "<b>title</b>",
          "<b>sub_source</b>",
          "<b>Fullcontact_Matched</b>",
          "<b>Ip_Longitude</b>",
          "<b>Ip_Connection_type</b>",
          "<b>Social_Profiles_Count</b>",
          "<b>affiliate_name</b>",
          "<b>turnover</b>",
          "<b>source</b>",
          "<b>country_of_residence</b>",
          "<b>Ip_Latitude</b>",
          "<b>Ip_Carrier</b>",
          "<b>location_Country_Fullcontact</b>",
          "<b>aza</b>"
         ]
        }
       ],
       "layout": {
        "height": 550,
        "hovermode": "closest",
        "legend": {
         "x": 1,
         "y": 1
        },
        "margin": {
         "b": 70,
         "l": 150,
         "r": 20,
         "t": 110
        },
        "template": {
         "data": {
          "scatter": [
           {
            "type": "scatter"
           }
          ]
         }
        },
        "title": {
         "font": {
          "color": "rgb(50, 50, 50)",
          "family": "Arial",
          "size": 24
         },
         "text": "Compare plot - index : <b>226589</b> ; <b>123932</b><span style='font-size: 12px;'><br />Response: <b>1</b> - Probas: 226589: <b>0.0</b> ; 123932: <b>0.0</b></span>",
         "x": 0.5,
         "xanchor": "center",
         "y": 0.9,
         "yanchor": "middle"
        },
        "width": 900,
        "xaxis": {
         "automargin": true,
         "title": {
          "font": {
           "color": "rgb(50, 50, 50)",
           "family": "Arial Black",
           "size": 16
          },
          "text": "Contributions"
         }
        },
        "yaxis": {
         "automargin": true,
         "title": {
          "font": {
           "color": "rgb(50, 50, 50)",
           "family": "Arial Black",
           "size": 16
          }
         },
         "type": "category"
        }
       }
      },
      "text/html": [
       "<div>                            <div id=\"efdb1461-a26f-4423-b294-2a5ac195d2d9\" class=\"plotly-graph-div\" style=\"height:550px; width:900px;\"></div>            <script type=\"text/javascript\">                require([\"plotly\"], function(Plotly) {                    window.PLOTLYENV=window.PLOTLYENV || {};                                    if (document.getElementById(\"efdb1461-a26f-4423-b294-2a5ac195d2d9\")) {                    Plotly.newPlot(                        \"efdb1461-a26f-4423-b294-2a5ac195d2d9\",                        [{\"hoverinfo\": \"text\", \"hovertext\": [\"Id: <b>226589</b><br /><b>Ip_Line_Speed</b> <br />Contribution: 0.0153 <br />Value: 1.0\", \"Id: <b>226589</b><br /><b>keywords</b> <br />Contribution: 0.0599 <br />Value: 0.0\", \"Id: <b>226589</b><br /><b>screen_resolution</b> <br />Contribution: 0.1106 <br />Value: 0.0\", \"Id: <b>226589</b><br /><b>gender_Fullcontact</b> <br />Contribution: 0.0495 <br />Value: 3.0\", \"Id: <b>226589</b><br /><b>brwsr_version</b> <br />Contribution: -0.0363 <br />Value: 0.0\", \"Id: <b>226589</b><br /><b>ageRange_Fullcontact</b> <br />Contribution: -0.0549 <br />Value: 79.0\", \"Id: <b>226589</b><br /><b>title</b> <br />Contribution: -0.0225 <br />Value: 32.0\", \"Id: <b>226589</b><br /><b>sub_source</b> <br />Contribution: -0.2795 <br />Value: 276.0\", \"Id: <b>226589</b><br /><b>Fullcontact_Matched</b> <br />Contribution: -0.1399 <br />Value: 1.0\", \"Id: <b>226589</b><br /><b>Ip_Longitude</b> <br />Contribution: -0.2402 <br />Value: -0.03999999\", \"Id: <b>226589</b><br /><b>Ip_Connection_type</b> <br />Contribution: -0.0911 <br />Value: 11.0\", \"Id: <b>226589</b><br /><b>Social_Profiles_Count</b> <br />Contribution: 0.2283 <br />Value: 0.0\", \"Id: <b>226589</b><br /><b>affiliate_name</b> <br />Contribution: -0.2387 <br />Value: 2774.0\", \"Id: <b>226589</b><br /><b>turnover</b> <br />Contribution: 0.1656 <br />Value: 25176.64\", \"Id: <b>226589</b><br /><b>source</b> <br />Contribution: -0.3458 <br />Value: 3.0\", \"Id: <b>226589</b><br /><b>country_of_residence</b> <br />Contribution: -0.2493 <br />Value: 40.0\", \"Id: <b>226589</b><br /><b>Ip_Latitude</b> <br />Contribution: -0.2330 <br />Value: 51.51111111\", \"Id: <b>226589</b><br /><b>Ip_Carrier</b> <br />Contribution: 0.0413 <br />Value: 865.0\", \"Id: <b>226589</b><br /><b>location_Country_Fullcontact</b> <br />Contribution: -1.4515 <br />Value: 4229.0\", \"Id: <b>226589</b><br /><b>aza</b> <br />Contribution: -1.6122 <br />Value: 56183.0\"], \"marker\": {\"color\": \"rgba(244, 192, 0, 1.0)\"}, \"mode\": \"lines+markers\", \"name\": \"Id: <b>226589</b>\", \"showlegend\": true, \"type\": \"scatter\", \"x\": [0.01532890647649765, 0.059855520725250244, 0.11055794358253479, 0.04952097684144974, -0.03632941097021103, -0.0549149326980114, -0.02251569926738739, -0.2795327305793762, -0.13987213373184204, -0.24018584191799164, -0.09108997136354446, 0.22830145061016083, -0.23869042098522186, 0.1656244993209839, -0.34583011269569397, -0.24927081167697906, -0.23303289711475372, 0.04125659167766571, -1.4514598846435547, -1.6122477054595947], \"y\": [\"<b>Ip_Line_Speed</b>\", \"<b>keywords</b>\", \"<b>screen_resolution</b>\", \"<b>gender_Fullcontact</b>\", \"<b>brwsr_version</b>\", \"<b>ageRange_Fullcontact</b>\", \"<b>title</b>\", \"<b>sub_source</b>\", \"<b>Fullcontact_Matched</b>\", \"<b>Ip_Longitude</b>\", \"<b>Ip_Connection_type</b>\", \"<b>Social_Profiles_Count</b>\", \"<b>affiliate_name</b>\", \"<b>turnover</b>\", \"<b>source</b>\", \"<b>country_of_residence</b>\", \"<b>Ip_Latitude</b>\", \"<b>Ip_Carrier</b>\", \"<b>location_Country_Fullcontact</b>\", \"<b>aza</b>\"]}, {\"hoverinfo\": \"text\", \"hovertext\": [\"Id: <b>123932</b><br /><b>Ip_Line_Speed</b> <br />Contribution: -0.0276 <br />Value: 3.0\", \"Id: <b>123932</b><br /><b>keywords</b> <br />Contribution: 0.0036 <br />Value: 0.0\", \"Id: <b>123932</b><br /><b>screen_resolution</b> <br />Contribution: 0.0431 <br />Value: 0.0\", \"Id: <b>123932</b><br /><b>gender_Fullcontact</b> <br />Contribution: -0.0219 <br />Value: 0.0\", \"Id: <b>123932</b><br /><b>brwsr_version</b> <br />Contribution: -0.1181 <br />Value: 0.0\", \"Id: <b>123932</b><br /><b>ageRange_Fullcontact</b> <br />Contribution: 0.0518 <br />Value: 0.0\", \"Id: <b>123932</b><br /><b>title</b> <br />Contribution: 0.0894 <br />Value: 23.0\", \"Id: <b>123932</b><br /><b>sub_source</b> <br />Contribution: -0.1411 <br />Value: 276.0\", \"Id: <b>123932</b><br /><b>Fullcontact_Matched</b> <br />Contribution: 0.0204 <br />Value: 0.0\", \"Id: <b>123932</b><br /><b>Ip_Longitude</b> <br />Contribution: -0.0710 <br />Value: 172.2366\", \"Id: <b>123932</b><br /><b>Ip_Connection_type</b> <br />Contribution: 0.0839 <br />Value: 4.0\", \"Id: <b>123932</b><br /><b>Social_Profiles_Count</b> <br />Contribution: -0.0220 <br />Value: 1.0\", \"Id: <b>123932</b><br /><b>affiliate_name</b> <br />Contribution: 0.0282 <br />Value: 7926.0\", \"Id: <b>123932</b><br /><b>turnover</b> <br />Contribution: -0.1867 <br />Value: 0.0\", \"Id: <b>123932</b><br /><b>source</b> <br />Contribution: 0.0460 <br />Value: 16.0\", \"Id: <b>123932</b><br /><b>country_of_residence</b> <br />Contribution: -0.7230 <br />Value: 177.0\", \"Id: <b>123932</b><br /><b>Ip_Latitude</b> <br />Contribution: 0.2545 <br />Value: -43.54647\", \"Id: <b>123932</b><br /><b>Ip_Carrier</b> <br />Contribution: 0.5802 <br />Value: 5805.0\", \"Id: <b>123932</b><br /><b>location_Country_Fullcontact</b> <br />Contribution: 0.0637 <br />Value: 0.0\", \"Id: <b>123932</b><br /><b>aza</b> <br />Contribution: 0.6424 <br />Value: 37081.0\"], \"marker\": {\"color\": \"rgba(74, 99, 138, 0.7)\"}, \"mode\": \"lines+markers\", \"name\": \"Id: <b>123932</b>\", \"showlegend\": true, \"type\": \"scatter\", \"x\": [-0.02762441150844097, 0.003590580075979233, 0.04306802898645401, -0.02185019664466381, -0.11811746656894684, 0.05177867412567139, 0.0893883928656578, -0.1410599648952484, 0.02036949060857296, -0.0710306242108345, 0.08386681973934174, -0.02199116162955761, 0.028225600719451904, -0.18667727708816528, 0.04602084308862686, -0.7229878902435303, 0.254517138004303, 0.5802320241928101, 0.06373245269060135, 0.6424468159675598], \"y\": [\"<b>Ip_Line_Speed</b>\", \"<b>keywords</b>\", \"<b>screen_resolution</b>\", \"<b>gender_Fullcontact</b>\", \"<b>brwsr_version</b>\", \"<b>ageRange_Fullcontact</b>\", \"<b>title</b>\", \"<b>sub_source</b>\", \"<b>Fullcontact_Matched</b>\", \"<b>Ip_Longitude</b>\", \"<b>Ip_Connection_type</b>\", \"<b>Social_Profiles_Count</b>\", \"<b>affiliate_name</b>\", \"<b>turnover</b>\", \"<b>source</b>\", \"<b>country_of_residence</b>\", \"<b>Ip_Latitude</b>\", \"<b>Ip_Carrier</b>\", \"<b>location_Country_Fullcontact</b>\", \"<b>aza</b>\"]}],                        {\"height\": 550, \"hovermode\": \"closest\", \"legend\": {\"x\": 1, \"y\": 1}, \"margin\": {\"b\": 70, \"l\": 150, \"r\": 20, \"t\": 110.0}, \"template\": {\"data\": {\"scatter\": [{\"type\": \"scatter\"}]}}, \"title\": {\"font\": {\"color\": \"rgb(50, 50, 50)\", \"family\": \"Arial\", \"size\": 24}, \"text\": \"Compare plot - index : <b>226589</b> ; <b>123932</b><span style='font-size: 12px;'><br />Response: <b>1</b> - Probas: 226589: <b>0.0</b> ; 123932: <b>0.0</b></span>\", \"x\": 0.5, \"xanchor\": \"center\", \"y\": 0.9, \"yanchor\": \"middle\"}, \"width\": 900, \"xaxis\": {\"automargin\": true, \"title\": {\"font\": {\"color\": \"rgb(50, 50, 50)\", \"family\": \"Arial Black\", \"size\": 16}, \"text\": \"Contributions\"}}, \"yaxis\": {\"automargin\": true, \"title\": {\"font\": {\"color\": \"rgb(50, 50, 50)\", \"family\": \"Arial Black\", \"size\": 16}}, \"type\": \"category\"}},                        {\"responsive\": true}                    ).then(function(){\n",
       "                            \n",
       "var gd = document.getElementById('efdb1461-a26f-4423-b294-2a5ac195d2d9');\n",
       "var x = new MutationObserver(function (mutations, observer) {{\n",
       "        var display = window.getComputedStyle(gd).display;\n",
       "        if (!display || display === 'none') {{\n",
       "            console.log([gd, 'removed!']);\n",
       "            Plotly.purge(gd);\n",
       "            observer.disconnect();\n",
       "        }}\n",
       "}});\n",
       "\n",
       "// Listen for the removal of the full notebook cells\n",
       "var notebookContainer = gd.closest('#notebook-container');\n",
       "if (notebookContainer) {{\n",
       "    x.observe(notebookContainer, {childList: true});\n",
       "}}\n",
       "\n",
       "// Listen for the clearing of the current output cell\n",
       "var outputEl = gd.closest('.output');\n",
       "if (outputEl) {{\n",
       "    x.observe(outputEl, {childList: true});\n",
       "}}\n",
       "\n",
       "                        })                };                });            </script>        </div>"
      ]
     },
     "metadata": {},
     "output_type": "display_data"
    }
   ],
   "source": [
    "#https://shapash.readthedocs.io/en/latest/tutorials/tuto-plot04-compare_plot.html#classification-case\n",
    "\n",
    "xpl.plot.compare_plot(row_num=[0, 1]) "
   ]
  },
  {
   "cell_type": "code",
   "execution_count": 1,
   "metadata": {},
   "outputs": [
    {
     "ename": "NameError",
     "evalue": "name 'xpl' is not defined",
     "output_type": "error",
     "traceback": [
      "\u001b[0;31m---------------------------------------------------------------------------\u001b[0m",
      "\u001b[0;31mNameError\u001b[0m                                 Traceback (most recent call last)",
      "\u001b[0;32m<ipython-input-1-2f2c450c94b6>\u001b[0m in \u001b[0;36m<module>\u001b[0;34m\u001b[0m\n\u001b[0;32m----> 1\u001b[0;31m \u001b[0mxpl\u001b[0m\u001b[0;34m.\u001b[0m\u001b[0mplot\u001b[0m\u001b[0;34m.\u001b[0m\u001b[0mlocal_plot\u001b[0m\u001b[0;34m(\u001b[0m\u001b[0mindex\u001b[0m\u001b[0;34m=\u001b[0m\u001b[0;36m123932\u001b[0m\u001b[0;34m)\u001b[0m\u001b[0;34m\u001b[0m\u001b[0;34m\u001b[0m\u001b[0m\n\u001b[0m",
      "\u001b[0;31mNameError\u001b[0m: name 'xpl' is not defined"
     ]
    }
   ],
   "source": [
    "xpl.plot.local_plot(index=123932)"
   ]
  },
  {
   "cell_type": "code",
   "execution_count": null,
   "metadata": {},
   "outputs": [],
   "source": []
  },
  {
   "cell_type": "code",
   "execution_count": 99,
   "metadata": {},
   "outputs": [
    {
     "data": {
      "text/html": [
       "<div>\n",
       "<style scoped>\n",
       "    .dataframe tbody tr th:only-of-type {\n",
       "        vertical-align: middle;\n",
       "    }\n",
       "\n",
       "    .dataframe tbody tr th {\n",
       "        vertical-align: top;\n",
       "    }\n",
       "\n",
       "    .dataframe thead th {\n",
       "        text-align: right;\n",
       "    }\n",
       "</style>\n",
       "<table border=\"1\" class=\"dataframe\">\n",
       "  <thead>\n",
       "    <tr style=\"text-align: right;\">\n",
       "      <th></th>\n",
       "      <th>EIDStatus</th>\n",
       "      <th>SanctionStatus</th>\n",
       "      <th>Ip_Latitude</th>\n",
       "      <th>Ip_Longitude</th>\n",
       "      <th>Ip_Carrier</th>\n",
       "      <th>Ip_Connection_type</th>\n",
       "      <th>Ip_Line_Speed</th>\n",
       "      <th>Ip_Routing_type</th>\n",
       "      <th>IP_Anonymizer_status</th>\n",
       "      <th>Fullcontact_Matched</th>\n",
       "      <th>...</th>\n",
       "      <th>op_country</th>\n",
       "      <th>referral_text</th>\n",
       "      <th>reg_mode</th>\n",
       "      <th>search_engine</th>\n",
       "      <th>source</th>\n",
       "      <th>sub_source</th>\n",
       "      <th>turnover</th>\n",
       "      <th>txn_value</th>\n",
       "      <th>Fraud_Acc_Flag</th>\n",
       "      <th>pred</th>\n",
       "    </tr>\n",
       "  </thead>\n",
       "  <tbody>\n",
       "    <tr>\n",
       "      <th>123932</th>\n",
       "      <td>0</td>\n",
       "      <td>0</td>\n",
       "      <td>51.511111</td>\n",
       "      <td>-0.04</td>\n",
       "      <td>865</td>\n",
       "      <td>11</td>\n",
       "      <td>1</td>\n",
       "      <td>3</td>\n",
       "      <td>0</td>\n",
       "      <td>0</td>\n",
       "      <td>...</td>\n",
       "      <td>0</td>\n",
       "      <td>0</td>\n",
       "      <td>0</td>\n",
       "      <td>0</td>\n",
       "      <td>32</td>\n",
       "      <td>399</td>\n",
       "      <td>0.0</td>\n",
       "      <td>0</td>\n",
       "      <td>0</td>\n",
       "      <td>0</td>\n",
       "    </tr>\n",
       "  </tbody>\n",
       "</table>\n",
       "<p>1 rows × 45 columns</p>\n",
       "</div>"
      ],
      "text/plain": [
       "        EIDStatus  SanctionStatus  Ip_Latitude  Ip_Longitude  Ip_Carrier  \\\n",
       "123932          0               0    51.511111         -0.04         865   \n",
       "\n",
       "        Ip_Connection_type  Ip_Line_Speed  Ip_Routing_type  \\\n",
       "123932                  11              1                3   \n",
       "\n",
       "        IP_Anonymizer_status  Fullcontact_Matched  ...  op_country  \\\n",
       "123932                     0                    0  ...           0   \n",
       "\n",
       "        referral_text  reg_mode  search_engine  source  sub_source  turnover  \\\n",
       "123932              0         0              0      32         399       0.0   \n",
       "\n",
       "        txn_value  Fraud_Acc_Flag  pred  \n",
       "123932          0               0     0  \n",
       "\n",
       "[1 rows x 45 columns]"
      ]
     },
     "execution_count": 99,
     "metadata": {},
     "output_type": "execute_result"
    }
   ],
   "source": [
    "df2.filter(like = '123932', axis=0)"
   ]
  },
  {
   "cell_type": "code",
   "execution_count": 103,
   "metadata": {},
   "outputs": [
    {
     "data": {
      "text/html": [
       "<div>\n",
       "<style scoped>\n",
       "    .dataframe tbody tr th:only-of-type {\n",
       "        vertical-align: middle;\n",
       "    }\n",
       "\n",
       "    .dataframe tbody tr th {\n",
       "        vertical-align: top;\n",
       "    }\n",
       "\n",
       "    .dataframe thead th {\n",
       "        text-align: right;\n",
       "    }\n",
       "</style>\n",
       "<table border=\"1\" class=\"dataframe\">\n",
       "  <thead>\n",
       "    <tr style=\"text-align: right;\">\n",
       "      <th></th>\n",
       "      <th>EIDStatus</th>\n",
       "      <th>SanctionStatus</th>\n",
       "      <th>Ip_Latitude</th>\n",
       "      <th>Ip_Longitude</th>\n",
       "      <th>Ip_Carrier</th>\n",
       "      <th>Ip_Connection_type</th>\n",
       "      <th>Ip_Line_Speed</th>\n",
       "      <th>Ip_Routing_type</th>\n",
       "      <th>IP_Anonymizer_status</th>\n",
       "      <th>Fullcontact_Matched</th>\n",
       "      <th>...</th>\n",
       "      <th>channel</th>\n",
       "      <th>keywords</th>\n",
       "      <th>op_country</th>\n",
       "      <th>referral_text</th>\n",
       "      <th>reg_mode</th>\n",
       "      <th>search_engine</th>\n",
       "      <th>source</th>\n",
       "      <th>sub_source</th>\n",
       "      <th>turnover</th>\n",
       "      <th>txn_value</th>\n",
       "    </tr>\n",
       "  </thead>\n",
       "  <tbody>\n",
       "    <tr>\n",
       "      <th>123932</th>\n",
       "      <td>0</td>\n",
       "      <td>0</td>\n",
       "      <td>-43.54647</td>\n",
       "      <td>172.2366</td>\n",
       "      <td>5805</td>\n",
       "      <td>4</td>\n",
       "      <td>3</td>\n",
       "      <td>3</td>\n",
       "      <td>0</td>\n",
       "      <td>0</td>\n",
       "      <td>...</td>\n",
       "      <td>1</td>\n",
       "      <td>0</td>\n",
       "      <td>0</td>\n",
       "      <td>0</td>\n",
       "      <td>0</td>\n",
       "      <td>0</td>\n",
       "      <td>16</td>\n",
       "      <td>276</td>\n",
       "      <td>0.0</td>\n",
       "      <td>15</td>\n",
       "    </tr>\n",
       "  </tbody>\n",
       "</table>\n",
       "<p>1 rows × 43 columns</p>\n",
       "</div>"
      ],
      "text/plain": [
       "        EIDStatus  SanctionStatus  Ip_Latitude  Ip_Longitude  Ip_Carrier  \\\n",
       "123932          0               0    -43.54647      172.2366        5805   \n",
       "\n",
       "        Ip_Connection_type  Ip_Line_Speed  Ip_Routing_type  \\\n",
       "123932                   4              3                3   \n",
       "\n",
       "        IP_Anonymizer_status  Fullcontact_Matched  ...  channel  keywords  \\\n",
       "123932                     0                    0  ...        1         0   \n",
       "\n",
       "        op_country  referral_text  reg_mode  search_engine  source  \\\n",
       "123932           0              0         0              0      16   \n",
       "\n",
       "        sub_source  turnover  txn_value  \n",
       "123932         276       0.0         15  \n",
       "\n",
       "[1 rows x 43 columns]"
      ]
     },
     "execution_count": 103,
     "metadata": {},
     "output_type": "execute_result"
    }
   ],
   "source": [
    "X_test.filter(like = '123932', axis=0)"
   ]
  },
  {
   "cell_type": "code",
   "execution_count": 22,
   "metadata": {},
   "outputs": [],
   "source": [
    "X_test_copy = X_test.copy()\n",
    "X_test_copy['Fraud_Actual'] = y_test\n",
    "X_test_copy['Fraud_Predict'] = hardpredtst_tuned_threshXGBC"
   ]
  },
  {
   "cell_type": "code",
   "execution_count": 109,
   "metadata": {},
   "outputs": [
    {
     "data": {
      "text/html": [
       "<div>\n",
       "<style scoped>\n",
       "    .dataframe tbody tr th:only-of-type {\n",
       "        vertical-align: middle;\n",
       "    }\n",
       "\n",
       "    .dataframe tbody tr th {\n",
       "        vertical-align: top;\n",
       "    }\n",
       "\n",
       "    .dataframe thead th {\n",
       "        text-align: right;\n",
       "    }\n",
       "</style>\n",
       "<table border=\"1\" class=\"dataframe\">\n",
       "  <thead>\n",
       "    <tr style=\"text-align: right;\">\n",
       "      <th></th>\n",
       "      <th>EIDStatus</th>\n",
       "      <th>SanctionStatus</th>\n",
       "      <th>Ip_Latitude</th>\n",
       "      <th>Ip_Longitude</th>\n",
       "      <th>Ip_Carrier</th>\n",
       "      <th>Ip_Connection_type</th>\n",
       "      <th>Ip_Line_Speed</th>\n",
       "      <th>Ip_Routing_type</th>\n",
       "      <th>IP_Anonymizer_status</th>\n",
       "      <th>Fullcontact_Matched</th>\n",
       "      <th>...</th>\n",
       "      <th>op_country</th>\n",
       "      <th>referral_text</th>\n",
       "      <th>reg_mode</th>\n",
       "      <th>search_engine</th>\n",
       "      <th>source</th>\n",
       "      <th>sub_source</th>\n",
       "      <th>turnover</th>\n",
       "      <th>txn_value</th>\n",
       "      <th>Fraud_Actual</th>\n",
       "      <th>Fraud_Predict</th>\n",
       "    </tr>\n",
       "  </thead>\n",
       "  <tbody>\n",
       "    <tr>\n",
       "      <th>226589</th>\n",
       "      <td>0</td>\n",
       "      <td>0</td>\n",
       "      <td>51.511111</td>\n",
       "      <td>-0.040000</td>\n",
       "      <td>865</td>\n",
       "      <td>11</td>\n",
       "      <td>1</td>\n",
       "      <td>3</td>\n",
       "      <td>0</td>\n",
       "      <td>1</td>\n",
       "      <td>...</td>\n",
       "      <td>0</td>\n",
       "      <td>0</td>\n",
       "      <td>0</td>\n",
       "      <td>0</td>\n",
       "      <td>3</td>\n",
       "      <td>276</td>\n",
       "      <td>25176.64</td>\n",
       "      <td>0</td>\n",
       "      <td>0</td>\n",
       "      <td>0</td>\n",
       "    </tr>\n",
       "    <tr>\n",
       "      <th>123932</th>\n",
       "      <td>0</td>\n",
       "      <td>0</td>\n",
       "      <td>-43.546470</td>\n",
       "      <td>172.236600</td>\n",
       "      <td>5805</td>\n",
       "      <td>4</td>\n",
       "      <td>3</td>\n",
       "      <td>3</td>\n",
       "      <td>0</td>\n",
       "      <td>0</td>\n",
       "      <td>...</td>\n",
       "      <td>0</td>\n",
       "      <td>0</td>\n",
       "      <td>0</td>\n",
       "      <td>0</td>\n",
       "      <td>16</td>\n",
       "      <td>276</td>\n",
       "      <td>0.00</td>\n",
       "      <td>15</td>\n",
       "      <td>0</td>\n",
       "      <td>1</td>\n",
       "    </tr>\n",
       "    <tr>\n",
       "      <th>413136</th>\n",
       "      <td>0</td>\n",
       "      <td>0</td>\n",
       "      <td>51.533000</td>\n",
       "      <td>-0.267000</td>\n",
       "      <td>6476</td>\n",
       "      <td>8</td>\n",
       "      <td>2</td>\n",
       "      <td>5</td>\n",
       "      <td>0</td>\n",
       "      <td>0</td>\n",
       "      <td>...</td>\n",
       "      <td>0</td>\n",
       "      <td>6327</td>\n",
       "      <td>3</td>\n",
       "      <td>0</td>\n",
       "      <td>16</td>\n",
       "      <td>283</td>\n",
       "      <td>0.00</td>\n",
       "      <td>110</td>\n",
       "      <td>0</td>\n",
       "      <td>1</td>\n",
       "    </tr>\n",
       "    <tr>\n",
       "      <th>354965</th>\n",
       "      <td>0</td>\n",
       "      <td>0</td>\n",
       "      <td>40.896111</td>\n",
       "      <td>29.190277</td>\n",
       "      <td>5792</td>\n",
       "      <td>1</td>\n",
       "      <td>3</td>\n",
       "      <td>3</td>\n",
       "      <td>0</td>\n",
       "      <td>1</td>\n",
       "      <td>...</td>\n",
       "      <td>0</td>\n",
       "      <td>0</td>\n",
       "      <td>3</td>\n",
       "      <td>0</td>\n",
       "      <td>3</td>\n",
       "      <td>276</td>\n",
       "      <td>0.00</td>\n",
       "      <td>118</td>\n",
       "      <td>0</td>\n",
       "      <td>0</td>\n",
       "    </tr>\n",
       "    <tr>\n",
       "      <th>84563</th>\n",
       "      <td>0</td>\n",
       "      <td>0</td>\n",
       "      <td>53.387222</td>\n",
       "      <td>-1.428611</td>\n",
       "      <td>867</td>\n",
       "      <td>4</td>\n",
       "      <td>3</td>\n",
       "      <td>3</td>\n",
       "      <td>0</td>\n",
       "      <td>1</td>\n",
       "      <td>...</td>\n",
       "      <td>0</td>\n",
       "      <td>0</td>\n",
       "      <td>0</td>\n",
       "      <td>619</td>\n",
       "      <td>40</td>\n",
       "      <td>195</td>\n",
       "      <td>0.00</td>\n",
       "      <td>24</td>\n",
       "      <td>0</td>\n",
       "      <td>0</td>\n",
       "    </tr>\n",
       "  </tbody>\n",
       "</table>\n",
       "<p>5 rows × 45 columns</p>\n",
       "</div>"
      ],
      "text/plain": [
       "        EIDStatus  SanctionStatus  Ip_Latitude  Ip_Longitude  Ip_Carrier  \\\n",
       "226589          0               0    51.511111     -0.040000         865   \n",
       "123932          0               0   -43.546470    172.236600        5805   \n",
       "413136          0               0    51.533000     -0.267000        6476   \n",
       "354965          0               0    40.896111     29.190277        5792   \n",
       "84563           0               0    53.387222     -1.428611         867   \n",
       "\n",
       "        Ip_Connection_type  Ip_Line_Speed  Ip_Routing_type  \\\n",
       "226589                  11              1                3   \n",
       "123932                   4              3                3   \n",
       "413136                   8              2                5   \n",
       "354965                   1              3                3   \n",
       "84563                    4              3                3   \n",
       "\n",
       "        IP_Anonymizer_status  Fullcontact_Matched  ...  op_country  \\\n",
       "226589                     0                    1  ...           0   \n",
       "123932                     0                    0  ...           0   \n",
       "413136                     0                    0  ...           0   \n",
       "354965                     0                    1  ...           0   \n",
       "84563                      0                    1  ...           0   \n",
       "\n",
       "        referral_text  reg_mode  search_engine  source  sub_source  turnover  \\\n",
       "226589              0         0              0       3         276  25176.64   \n",
       "123932              0         0              0      16         276      0.00   \n",
       "413136           6327         3              0      16         283      0.00   \n",
       "354965              0         3              0       3         276      0.00   \n",
       "84563               0         0            619      40         195      0.00   \n",
       "\n",
       "        txn_value  Fraud_Actual  Fraud_Predict  \n",
       "226589          0             0              0  \n",
       "123932         15             0              1  \n",
       "413136        110             0              1  \n",
       "354965        118             0              0  \n",
       "84563          24             0              0  \n",
       "\n",
       "[5 rows x 45 columns]"
      ]
     },
     "execution_count": 109,
     "metadata": {},
     "output_type": "execute_result"
    }
   ],
   "source": [
    "X_test_copy.head()"
   ]
  },
  {
   "cell_type": "code",
   "execution_count": 110,
   "metadata": {},
   "outputs": [],
   "source": [
    "X_test_copy.to_csv('thresholdoutputcompare.csv')"
   ]
  },
  {
   "cell_type": "code",
   "execution_count": 28,
   "metadata": {},
   "outputs": [
    {
     "data": {
      "text/html": [
       "<div>\n",
       "<style scoped>\n",
       "    .dataframe tbody tr th:only-of-type {\n",
       "        vertical-align: middle;\n",
       "    }\n",
       "\n",
       "    .dataframe tbody tr th {\n",
       "        vertical-align: top;\n",
       "    }\n",
       "\n",
       "    .dataframe thead th {\n",
       "        text-align: right;\n",
       "    }\n",
       "</style>\n",
       "<table border=\"1\" class=\"dataframe\">\n",
       "  <thead>\n",
       "    <tr style=\"text-align: right;\">\n",
       "      <th></th>\n",
       "      <th>EIDStatus</th>\n",
       "      <th>SanctionStatus</th>\n",
       "      <th>Ip_Latitude</th>\n",
       "      <th>Ip_Longitude</th>\n",
       "      <th>Ip_Carrier</th>\n",
       "      <th>Ip_Connection_type</th>\n",
       "      <th>Ip_Line_Speed</th>\n",
       "      <th>Ip_Routing_type</th>\n",
       "      <th>IP_Anonymizer_status</th>\n",
       "      <th>Fullcontact_Matched</th>\n",
       "      <th>...</th>\n",
       "      <th>op_country</th>\n",
       "      <th>referral_text</th>\n",
       "      <th>reg_mode</th>\n",
       "      <th>search_engine</th>\n",
       "      <th>source</th>\n",
       "      <th>sub_source</th>\n",
       "      <th>turnover</th>\n",
       "      <th>txn_value</th>\n",
       "      <th>Fraud_Actual</th>\n",
       "      <th>Fraud_Predict</th>\n",
       "    </tr>\n",
       "  </thead>\n",
       "  <tbody>\n",
       "    <tr>\n",
       "      <th>412759</th>\n",
       "      <td>0</td>\n",
       "      <td>0</td>\n",
       "      <td>37.33053</td>\n",
       "      <td>-121.83823</td>\n",
       "      <td>1342</td>\n",
       "      <td>11</td>\n",
       "      <td>1</td>\n",
       "      <td>3</td>\n",
       "      <td>0</td>\n",
       "      <td>0</td>\n",
       "      <td>...</td>\n",
       "      <td>0</td>\n",
       "      <td>228</td>\n",
       "      <td>2</td>\n",
       "      <td>0</td>\n",
       "      <td>32</td>\n",
       "      <td>92</td>\n",
       "      <td>0.0</td>\n",
       "      <td>24</td>\n",
       "      <td>1</td>\n",
       "      <td>1</td>\n",
       "    </tr>\n",
       "  </tbody>\n",
       "</table>\n",
       "<p>1 rows × 45 columns</p>\n",
       "</div>"
      ],
      "text/plain": [
       "        EIDStatus  SanctionStatus  Ip_Latitude  Ip_Longitude  Ip_Carrier  \\\n",
       "412759          0               0     37.33053    -121.83823        1342   \n",
       "\n",
       "        Ip_Connection_type  Ip_Line_Speed  Ip_Routing_type  \\\n",
       "412759                  11              1                3   \n",
       "\n",
       "        IP_Anonymizer_status  Fullcontact_Matched  ...  op_country  \\\n",
       "412759                     0                    0  ...           0   \n",
       "\n",
       "        referral_text  reg_mode  search_engine  source  sub_source  turnover  \\\n",
       "412759            228         2              0      32          92       0.0   \n",
       "\n",
       "        txn_value  Fraud_Actual  Fraud_Predict  \n",
       "412759         24             1              1  \n",
       "\n",
       "[1 rows x 45 columns]"
      ]
     },
     "execution_count": 28,
     "metadata": {},
     "output_type": "execute_result"
    }
   ],
   "source": [
    "pd.set_option('display.max_rows', None)\n",
    "X_test_copy.filter(like='412759', axis=0)"
   ]
  },
  {
   "cell_type": "code",
   "execution_count": null,
   "metadata": {},
   "outputs": [],
   "source": []
  },
  {
   "cell_type": "code",
   "execution_count": null,
   "metadata": {},
   "outputs": [],
   "source": []
  },
  {
   "cell_type": "code",
   "execution_count": null,
   "metadata": {},
   "outputs": [],
   "source": []
  },
  {
   "cell_type": "code",
   "execution_count": null,
   "metadata": {},
   "outputs": [],
   "source": []
  },
  {
   "cell_type": "code",
   "execution_count": null,
   "metadata": {},
   "outputs": [],
   "source": []
  }
 ],
 "metadata": {
  "kernelspec": {
   "display_name": "Python 3",
   "language": "python",
   "name": "python3"
  },
  "language_info": {
   "codemirror_mode": {
    "name": "ipython",
    "version": 3
   },
   "file_extension": ".py",
   "mimetype": "text/x-python",
   "name": "python",
   "nbconvert_exporter": "python",
   "pygments_lexer": "ipython3",
   "version": "3.6.9"
  }
 },
 "nbformat": 4,
 "nbformat_minor": 2
}
